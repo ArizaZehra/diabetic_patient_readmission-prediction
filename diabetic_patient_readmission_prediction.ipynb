{
  "cells": [
    {
      "cell_type": "markdown",
      "source": [
        "Scenario 3:\n",
        "A hospital has a large dataset of patient records, including information on demographics,\n",
        "medical history, diagnoses, treatments, and outcomes. The hospital wants to use this data\n",
        "to develop a machine learning model that can predict the risk of readmission for patients\n",
        "after they are discharged from the hospital. Develop a ML solution for the aforesaid\n",
        "prediction with an example Dataset."
      ],
      "metadata": {
        "id": "EjqBbDIOYtSw"
      },
      "id": "EjqBbDIOYtSw"
    },
    {
      "cell_type": "code",
      "source": [
        "import numpy as np # linear algebra\n",
        "import pandas as pd # data processing, CSV file I/O (e.g. pd.read_csv)"
      ],
      "metadata": {
        "id": "_qq-UccfYtsT"
      },
      "id": "_qq-UccfYtsT",
      "execution_count": 67,
      "outputs": []
    },
    {
      "cell_type": "code",
      "source": [
        "from google.colab import drive\n",
        "drive.mount('/content/drive')"
      ],
      "metadata": {
        "colab": {
          "base_uri": "https://localhost:8080/"
        },
        "id": "NZLbEioPRsqf",
        "outputId": "5f8400f6-b5aa-4cc1-e3fd-e67ec4161ab0"
      },
      "id": "NZLbEioPRsqf",
      "execution_count": 8,
      "outputs": [
        {
          "output_type": "stream",
          "name": "stdout",
          "text": [
            "Drive already mounted at /content/drive; to attempt to forcibly remount, call drive.mount(\"/content/drive\", force_remount=True).\n"
          ]
        }
      ]
    },
    {
      "cell_type": "markdown",
      "source": [
        "#Importing libraries and loading dataset from drive\n",
        "\n"
      ],
      "metadata": {
        "id": "hlN5LvgLXI3x"
      },
      "id": "hlN5LvgLXI3x"
    },
    {
      "cell_type": "code",
      "execution_count": 68,
      "id": "858daf16",
      "metadata": {
        "execution": {
          "iopub.execute_input": "2023-10-27T08:43:18.070525Z",
          "iopub.status.busy": "2023-10-27T08:43:18.070020Z",
          "iopub.status.idle": "2023-10-27T08:43:20.292346Z",
          "shell.execute_reply": "2023-10-27T08:43:20.291182Z"
        },
        "papermill": {
          "duration": 2.2348,
          "end_time": "2023-10-27T08:43:20.294888",
          "exception": false,
          "start_time": "2023-10-27T08:43:18.060088",
          "status": "completed"
        },
        "tags": [],
        "id": "858daf16"
      },
      "outputs": [],
      "source": [
        "# Import the necessary libraries for data visualization, machine learning, and evaluation\n",
        "import matplotlib.pyplot as plt  # Matplotlib for data visualization\n",
        "import seaborn as sns  # Seaborn for enhanced data visualization\n",
        "\n",
        "# Import a function to split the dataset into training and testing sets\n",
        "from sklearn.model_selection import train_test_split\n",
        "\n",
        "# Import machine learning models for classification tasks\n",
        "from sklearn.linear_model import LogisticRegression  # Logistic Regression model\n",
        "from sklearn.ensemble import RandomForestClassifier  # Random Forest Classifier model\n",
        "\n",
        "# Import a preprocessing tool to standardize features\n",
        "from sklearn.preprocessing import StandardScaler  # StandardScaler for feature scaling\n",
        "\n",
        "# Import libraries for model evaluation and metrics\n",
        "from sklearn import metrics  # General library for machine learning metrics\n",
        "from sklearn.metrics import confusion_matrix  # Confusion matrix for model evaluation\n",
        "from sklearn.metrics import accuracy_score  # Accuracy score metric"
      ]
    },
    {
      "cell_type": "markdown",
      "source": [
        "#Dataset Description:\n",
        "\n",
        "The dataset contains various attributes related to patient encounters in a healthcare setting. Here are the attributes along with their data types and descriptions:\n",
        "\n",
        "Encounter ID (Numeric): A unique identifier for each patient encounter.\n",
        "\n",
        "Patient Number (Numeric): A unique identifier for each patient.\n",
        "\n",
        "Race (Nominal): Values can be Caucasian, Asian, African American, Hispanic, or other.\n",
        "\n",
        "Gender (Nominal): Values can be male, female, or unknown/invalid.\n",
        "\n",
        "Age (Nominal): Age grouped into 10-year intervals (e.g., [0, 10), [10, 20), ..., [90, 100)).\n",
        "\n",
        "Weight (Numeric): Weight in pounds.\n",
        "\n",
        "Admission Type (Nominal): An integer identifier corresponding to 9 distinct values (e.g., emergency, urgent, elective).\n",
        "\n",
        "Discharge Disposition (Nominal): An integer identifier corresponding to 29 distinct values (e.g., discharged to home, expired).\n",
        "\n",
        "Admission Source (Nominal): An integer identifier corresponding to 21 distinct values (e.g., physician referral, emergency room).\n",
        "\n",
        "Time in Hospital (Numeric): Integer number of days between admission and discharge.\n",
        "\n",
        "Payer Code (Nominal): An integer identifier corresponding to 23 distinct values (e.g., Blue Cross/Blue Shield, Medicare).\n",
        "\n",
        "Medical Specialty (Nominal): An integer identifier for the specialty of the admitting physician, corresponding to 84 distinct values (e.g., cardiology, internal medicine).\n",
        "\n",
        "Number of Lab Procedures (Numeric): Number of lab tests performed during the encounter.\n",
        "\n",
        "Number of Procedures (Numeric): Number of procedures (other than lab tests) performed during the encounter.\n",
        "\n",
        "Number of Medications (Numeric): Number of distinct generic names administered during the encounter.\n",
        "\n",
        "Number of Outpatient Visits (Numeric): Number of outpatient visits of the patient in the year preceding the encounter.\n",
        "\n",
        "Number of Emergency Visits (Numeric): Number of emergency visits of the patient in the year preceding the encounter.\n",
        "\n",
        "Number of Inpatient Visits (Numeric): Number of inpatient visits of the patient in the year preceding the encounter.\n",
        "\n",
        "Diagnosis 1 (Nominal): The primary diagnosis, coded as the first three digits of ICD9, with 848 distinct values.\n",
        "\n",
        "Diagnosis 2 (Nominal): Secondary diagnosis, coded as the first three digits of ICD9, with 923 distinct values.\n",
        "\n",
        "Diagnosis 3 (Nominal): Additional secondary diagnosis, coded as the first three digits of ICD9, with 954 distinct values.\n",
        "\n",
        "Number of Diagnoses (Numeric): Number of diagnoses entered into the system.\n",
        "\n",
        "Glucose Serum Test Result (Nominal): Indicates the range of the result or if the test was not taken (values: \">200,\" \">300,\" \"normal,\" \"none\").\n",
        "\n",
        "A1c Test Result (Nominal): Indicates the range of the result or if the test was not taken (values: \">8,\" \">7,\" \"normal,\" \"none\").\n",
        "\n",
        "Change of Medications (Nominal): Indicates if there was a change in diabetic medications (values: \"change\" and \"no change\").\n",
        "\n",
        "Diabetes Medications (Nominal): Indicates if any diabetic medication was prescribed (values: \"yes\" and \"no\").\n",
        "\n",
        "24 Features for Medications (Nominal): For various generic names of drugs, it indicates whether the drug was prescribed or if there was a change in dosage (values: \"up,\" \"down,\" \"steady,\" \"no\").\n",
        "\n",
        "Target Variable:\n",
        "\n",
        "Readmitted (Nominal): Days to inpatient readmission. Values: \"<30\" if the patient was readmitted in less than 30 days, \">30\" if the patient was readmitted after 30 days, and \"NO\" if the patient was not readmitted."
      ],
      "metadata": {
        "id": "q9TLaleyZzmd"
      },
      "id": "q9TLaleyZzmd"
    },
    {
      "cell_type": "code",
      "execution_count": 10,
      "id": "c996994e",
      "metadata": {
        "execution": {
          "iopub.execute_input": "2023-10-27T08:43:20.315316Z",
          "iopub.status.busy": "2023-10-27T08:43:20.314932Z",
          "iopub.status.idle": "2023-10-27T08:43:21.050846Z",
          "shell.execute_reply": "2023-10-27T08:43:21.050112Z"
        },
        "papermill": {
          "duration": 0.748041,
          "end_time": "2023-10-27T08:43:21.052734",
          "exception": false,
          "start_time": "2023-10-27T08:43:20.304693",
          "status": "completed"
        },
        "tags": [],
        "id": "c996994e",
        "outputId": "fc6ca600-a2b2-4ce0-f8e3-be3adc0a381b",
        "colab": {
          "base_uri": "https://localhost:8080/",
          "height": 360
        }
      },
      "outputs": [
        {
          "output_type": "execute_result",
          "data": {
            "text/plain": [
              "   encounter_id  patient_nbr             race  gender      age weight  \\\n",
              "0       2278392      8222157        Caucasian  Female   [0-10)      ?   \n",
              "1        149190     55629189        Caucasian  Female  [10-20)      ?   \n",
              "2         64410     86047875  AfricanAmerican  Female  [20-30)      ?   \n",
              "3        500364     82442376        Caucasian    Male  [30-40)      ?   \n",
              "4         16680     42519267        Caucasian    Male  [40-50)      ?   \n",
              "\n",
              "   admission_type_id  discharge_disposition_id  admission_source_id  \\\n",
              "0                  6                        25                    1   \n",
              "1                  1                         1                    7   \n",
              "2                  1                         1                    7   \n",
              "3                  1                         1                    7   \n",
              "4                  1                         1                    7   \n",
              "\n",
              "   time_in_hospital  ... citoglipton insulin  glyburide-metformin  \\\n",
              "0                 1  ...          No      No                   No   \n",
              "1                 3  ...          No      Up                   No   \n",
              "2                 2  ...          No      No                   No   \n",
              "3                 2  ...          No      Up                   No   \n",
              "4                 1  ...          No  Steady                   No   \n",
              "\n",
              "   glipizide-metformin  glimepiride-pioglitazone  metformin-rosiglitazone  \\\n",
              "0                   No                        No                       No   \n",
              "1                   No                        No                       No   \n",
              "2                   No                        No                       No   \n",
              "3                   No                        No                       No   \n",
              "4                   No                        No                       No   \n",
              "\n",
              "   metformin-pioglitazone  change diabetesMed readmitted  \n",
              "0                      No      No          No         NO  \n",
              "1                      No      Ch         Yes        >30  \n",
              "2                      No      No         Yes         NO  \n",
              "3                      No      Ch         Yes         NO  \n",
              "4                      No      Ch         Yes         NO  \n",
              "\n",
              "[5 rows x 50 columns]"
            ],
            "text/html": [
              "\n",
              "  <div id=\"df-0c76f74b-14bd-42b1-a6db-9da311f980a0\" class=\"colab-df-container\">\n",
              "    <div>\n",
              "<style scoped>\n",
              "    .dataframe tbody tr th:only-of-type {\n",
              "        vertical-align: middle;\n",
              "    }\n",
              "\n",
              "    .dataframe tbody tr th {\n",
              "        vertical-align: top;\n",
              "    }\n",
              "\n",
              "    .dataframe thead th {\n",
              "        text-align: right;\n",
              "    }\n",
              "</style>\n",
              "<table border=\"1\" class=\"dataframe\">\n",
              "  <thead>\n",
              "    <tr style=\"text-align: right;\">\n",
              "      <th></th>\n",
              "      <th>encounter_id</th>\n",
              "      <th>patient_nbr</th>\n",
              "      <th>race</th>\n",
              "      <th>gender</th>\n",
              "      <th>age</th>\n",
              "      <th>weight</th>\n",
              "      <th>admission_type_id</th>\n",
              "      <th>discharge_disposition_id</th>\n",
              "      <th>admission_source_id</th>\n",
              "      <th>time_in_hospital</th>\n",
              "      <th>...</th>\n",
              "      <th>citoglipton</th>\n",
              "      <th>insulin</th>\n",
              "      <th>glyburide-metformin</th>\n",
              "      <th>glipizide-metformin</th>\n",
              "      <th>glimepiride-pioglitazone</th>\n",
              "      <th>metformin-rosiglitazone</th>\n",
              "      <th>metformin-pioglitazone</th>\n",
              "      <th>change</th>\n",
              "      <th>diabetesMed</th>\n",
              "      <th>readmitted</th>\n",
              "    </tr>\n",
              "  </thead>\n",
              "  <tbody>\n",
              "    <tr>\n",
              "      <th>0</th>\n",
              "      <td>2278392</td>\n",
              "      <td>8222157</td>\n",
              "      <td>Caucasian</td>\n",
              "      <td>Female</td>\n",
              "      <td>[0-10)</td>\n",
              "      <td>?</td>\n",
              "      <td>6</td>\n",
              "      <td>25</td>\n",
              "      <td>1</td>\n",
              "      <td>1</td>\n",
              "      <td>...</td>\n",
              "      <td>No</td>\n",
              "      <td>No</td>\n",
              "      <td>No</td>\n",
              "      <td>No</td>\n",
              "      <td>No</td>\n",
              "      <td>No</td>\n",
              "      <td>No</td>\n",
              "      <td>No</td>\n",
              "      <td>No</td>\n",
              "      <td>NO</td>\n",
              "    </tr>\n",
              "    <tr>\n",
              "      <th>1</th>\n",
              "      <td>149190</td>\n",
              "      <td>55629189</td>\n",
              "      <td>Caucasian</td>\n",
              "      <td>Female</td>\n",
              "      <td>[10-20)</td>\n",
              "      <td>?</td>\n",
              "      <td>1</td>\n",
              "      <td>1</td>\n",
              "      <td>7</td>\n",
              "      <td>3</td>\n",
              "      <td>...</td>\n",
              "      <td>No</td>\n",
              "      <td>Up</td>\n",
              "      <td>No</td>\n",
              "      <td>No</td>\n",
              "      <td>No</td>\n",
              "      <td>No</td>\n",
              "      <td>No</td>\n",
              "      <td>Ch</td>\n",
              "      <td>Yes</td>\n",
              "      <td>&gt;30</td>\n",
              "    </tr>\n",
              "    <tr>\n",
              "      <th>2</th>\n",
              "      <td>64410</td>\n",
              "      <td>86047875</td>\n",
              "      <td>AfricanAmerican</td>\n",
              "      <td>Female</td>\n",
              "      <td>[20-30)</td>\n",
              "      <td>?</td>\n",
              "      <td>1</td>\n",
              "      <td>1</td>\n",
              "      <td>7</td>\n",
              "      <td>2</td>\n",
              "      <td>...</td>\n",
              "      <td>No</td>\n",
              "      <td>No</td>\n",
              "      <td>No</td>\n",
              "      <td>No</td>\n",
              "      <td>No</td>\n",
              "      <td>No</td>\n",
              "      <td>No</td>\n",
              "      <td>No</td>\n",
              "      <td>Yes</td>\n",
              "      <td>NO</td>\n",
              "    </tr>\n",
              "    <tr>\n",
              "      <th>3</th>\n",
              "      <td>500364</td>\n",
              "      <td>82442376</td>\n",
              "      <td>Caucasian</td>\n",
              "      <td>Male</td>\n",
              "      <td>[30-40)</td>\n",
              "      <td>?</td>\n",
              "      <td>1</td>\n",
              "      <td>1</td>\n",
              "      <td>7</td>\n",
              "      <td>2</td>\n",
              "      <td>...</td>\n",
              "      <td>No</td>\n",
              "      <td>Up</td>\n",
              "      <td>No</td>\n",
              "      <td>No</td>\n",
              "      <td>No</td>\n",
              "      <td>No</td>\n",
              "      <td>No</td>\n",
              "      <td>Ch</td>\n",
              "      <td>Yes</td>\n",
              "      <td>NO</td>\n",
              "    </tr>\n",
              "    <tr>\n",
              "      <th>4</th>\n",
              "      <td>16680</td>\n",
              "      <td>42519267</td>\n",
              "      <td>Caucasian</td>\n",
              "      <td>Male</td>\n",
              "      <td>[40-50)</td>\n",
              "      <td>?</td>\n",
              "      <td>1</td>\n",
              "      <td>1</td>\n",
              "      <td>7</td>\n",
              "      <td>1</td>\n",
              "      <td>...</td>\n",
              "      <td>No</td>\n",
              "      <td>Steady</td>\n",
              "      <td>No</td>\n",
              "      <td>No</td>\n",
              "      <td>No</td>\n",
              "      <td>No</td>\n",
              "      <td>No</td>\n",
              "      <td>Ch</td>\n",
              "      <td>Yes</td>\n",
              "      <td>NO</td>\n",
              "    </tr>\n",
              "  </tbody>\n",
              "</table>\n",
              "<p>5 rows × 50 columns</p>\n",
              "</div>\n",
              "    <div class=\"colab-df-buttons\">\n",
              "\n",
              "  <div class=\"colab-df-container\">\n",
              "    <button class=\"colab-df-convert\" onclick=\"convertToInteractive('df-0c76f74b-14bd-42b1-a6db-9da311f980a0')\"\n",
              "            title=\"Convert this dataframe to an interactive table.\"\n",
              "            style=\"display:none;\">\n",
              "\n",
              "  <svg xmlns=\"http://www.w3.org/2000/svg\" height=\"24px\" viewBox=\"0 -960 960 960\">\n",
              "    <path d=\"M120-120v-720h720v720H120Zm60-500h600v-160H180v160Zm220 220h160v-160H400v160Zm0 220h160v-160H400v160ZM180-400h160v-160H180v160Zm440 0h160v-160H620v160ZM180-180h160v-160H180v160Zm440 0h160v-160H620v160Z\"/>\n",
              "  </svg>\n",
              "    </button>\n",
              "\n",
              "  <style>\n",
              "    .colab-df-container {\n",
              "      display:flex;\n",
              "      gap: 12px;\n",
              "    }\n",
              "\n",
              "    .colab-df-convert {\n",
              "      background-color: #E8F0FE;\n",
              "      border: none;\n",
              "      border-radius: 50%;\n",
              "      cursor: pointer;\n",
              "      display: none;\n",
              "      fill: #1967D2;\n",
              "      height: 32px;\n",
              "      padding: 0 0 0 0;\n",
              "      width: 32px;\n",
              "    }\n",
              "\n",
              "    .colab-df-convert:hover {\n",
              "      background-color: #E2EBFA;\n",
              "      box-shadow: 0px 1px 2px rgba(60, 64, 67, 0.3), 0px 1px 3px 1px rgba(60, 64, 67, 0.15);\n",
              "      fill: #174EA6;\n",
              "    }\n",
              "\n",
              "    .colab-df-buttons div {\n",
              "      margin-bottom: 4px;\n",
              "    }\n",
              "\n",
              "    [theme=dark] .colab-df-convert {\n",
              "      background-color: #3B4455;\n",
              "      fill: #D2E3FC;\n",
              "    }\n",
              "\n",
              "    [theme=dark] .colab-df-convert:hover {\n",
              "      background-color: #434B5C;\n",
              "      box-shadow: 0px 1px 3px 1px rgba(0, 0, 0, 0.15);\n",
              "      filter: drop-shadow(0px 1px 2px rgba(0, 0, 0, 0.3));\n",
              "      fill: #FFFFFF;\n",
              "    }\n",
              "  </style>\n",
              "\n",
              "    <script>\n",
              "      const buttonEl =\n",
              "        document.querySelector('#df-0c76f74b-14bd-42b1-a6db-9da311f980a0 button.colab-df-convert');\n",
              "      buttonEl.style.display =\n",
              "        google.colab.kernel.accessAllowed ? 'block' : 'none';\n",
              "\n",
              "      async function convertToInteractive(key) {\n",
              "        const element = document.querySelector('#df-0c76f74b-14bd-42b1-a6db-9da311f980a0');\n",
              "        const dataTable =\n",
              "          await google.colab.kernel.invokeFunction('convertToInteractive',\n",
              "                                                    [key], {});\n",
              "        if (!dataTable) return;\n",
              "\n",
              "        const docLinkHtml = 'Like what you see? Visit the ' +\n",
              "          '<a target=\"_blank\" href=https://colab.research.google.com/notebooks/data_table.ipynb>data table notebook</a>'\n",
              "          + ' to learn more about interactive tables.';\n",
              "        element.innerHTML = '';\n",
              "        dataTable['output_type'] = 'display_data';\n",
              "        await google.colab.output.renderOutput(dataTable, element);\n",
              "        const docLink = document.createElement('div');\n",
              "        docLink.innerHTML = docLinkHtml;\n",
              "        element.appendChild(docLink);\n",
              "      }\n",
              "    </script>\n",
              "  </div>\n",
              "\n",
              "\n",
              "<div id=\"df-b830949b-7629-4733-ae83-4d0a2c81d3a8\">\n",
              "  <button class=\"colab-df-quickchart\" onclick=\"quickchart('df-b830949b-7629-4733-ae83-4d0a2c81d3a8')\"\n",
              "            title=\"Suggest charts\"\n",
              "            style=\"display:none;\">\n",
              "\n",
              "<svg xmlns=\"http://www.w3.org/2000/svg\" height=\"24px\"viewBox=\"0 0 24 24\"\n",
              "     width=\"24px\">\n",
              "    <g>\n",
              "        <path d=\"M19 3H5c-1.1 0-2 .9-2 2v14c0 1.1.9 2 2 2h14c1.1 0 2-.9 2-2V5c0-1.1-.9-2-2-2zM9 17H7v-7h2v7zm4 0h-2V7h2v10zm4 0h-2v-4h2v4z\"/>\n",
              "    </g>\n",
              "</svg>\n",
              "  </button>\n",
              "\n",
              "<style>\n",
              "  .colab-df-quickchart {\n",
              "      --bg-color: #E8F0FE;\n",
              "      --fill-color: #1967D2;\n",
              "      --hover-bg-color: #E2EBFA;\n",
              "      --hover-fill-color: #174EA6;\n",
              "      --disabled-fill-color: #AAA;\n",
              "      --disabled-bg-color: #DDD;\n",
              "  }\n",
              "\n",
              "  [theme=dark] .colab-df-quickchart {\n",
              "      --bg-color: #3B4455;\n",
              "      --fill-color: #D2E3FC;\n",
              "      --hover-bg-color: #434B5C;\n",
              "      --hover-fill-color: #FFFFFF;\n",
              "      --disabled-bg-color: #3B4455;\n",
              "      --disabled-fill-color: #666;\n",
              "  }\n",
              "\n",
              "  .colab-df-quickchart {\n",
              "    background-color: var(--bg-color);\n",
              "    border: none;\n",
              "    border-radius: 50%;\n",
              "    cursor: pointer;\n",
              "    display: none;\n",
              "    fill: var(--fill-color);\n",
              "    height: 32px;\n",
              "    padding: 0;\n",
              "    width: 32px;\n",
              "  }\n",
              "\n",
              "  .colab-df-quickchart:hover {\n",
              "    background-color: var(--hover-bg-color);\n",
              "    box-shadow: 0 1px 2px rgba(60, 64, 67, 0.3), 0 1px 3px 1px rgba(60, 64, 67, 0.15);\n",
              "    fill: var(--button-hover-fill-color);\n",
              "  }\n",
              "\n",
              "  .colab-df-quickchart-complete:disabled,\n",
              "  .colab-df-quickchart-complete:disabled:hover {\n",
              "    background-color: var(--disabled-bg-color);\n",
              "    fill: var(--disabled-fill-color);\n",
              "    box-shadow: none;\n",
              "  }\n",
              "\n",
              "  .colab-df-spinner {\n",
              "    border: 2px solid var(--fill-color);\n",
              "    border-color: transparent;\n",
              "    border-bottom-color: var(--fill-color);\n",
              "    animation:\n",
              "      spin 1s steps(1) infinite;\n",
              "  }\n",
              "\n",
              "  @keyframes spin {\n",
              "    0% {\n",
              "      border-color: transparent;\n",
              "      border-bottom-color: var(--fill-color);\n",
              "      border-left-color: var(--fill-color);\n",
              "    }\n",
              "    20% {\n",
              "      border-color: transparent;\n",
              "      border-left-color: var(--fill-color);\n",
              "      border-top-color: var(--fill-color);\n",
              "    }\n",
              "    30% {\n",
              "      border-color: transparent;\n",
              "      border-left-color: var(--fill-color);\n",
              "      border-top-color: var(--fill-color);\n",
              "      border-right-color: var(--fill-color);\n",
              "    }\n",
              "    40% {\n",
              "      border-color: transparent;\n",
              "      border-right-color: var(--fill-color);\n",
              "      border-top-color: var(--fill-color);\n",
              "    }\n",
              "    60% {\n",
              "      border-color: transparent;\n",
              "      border-right-color: var(--fill-color);\n",
              "    }\n",
              "    80% {\n",
              "      border-color: transparent;\n",
              "      border-right-color: var(--fill-color);\n",
              "      border-bottom-color: var(--fill-color);\n",
              "    }\n",
              "    90% {\n",
              "      border-color: transparent;\n",
              "      border-bottom-color: var(--fill-color);\n",
              "    }\n",
              "  }\n",
              "</style>\n",
              "\n",
              "  <script>\n",
              "    async function quickchart(key) {\n",
              "      const quickchartButtonEl =\n",
              "        document.querySelector('#' + key + ' button');\n",
              "      quickchartButtonEl.disabled = true;  // To prevent multiple clicks.\n",
              "      quickchartButtonEl.classList.add('colab-df-spinner');\n",
              "      try {\n",
              "        const charts = await google.colab.kernel.invokeFunction(\n",
              "            'suggestCharts', [key], {});\n",
              "      } catch (error) {\n",
              "        console.error('Error during call to suggestCharts:', error);\n",
              "      }\n",
              "      quickchartButtonEl.classList.remove('colab-df-spinner');\n",
              "      quickchartButtonEl.classList.add('colab-df-quickchart-complete');\n",
              "    }\n",
              "    (() => {\n",
              "      let quickchartButtonEl =\n",
              "        document.querySelector('#df-b830949b-7629-4733-ae83-4d0a2c81d3a8 button');\n",
              "      quickchartButtonEl.style.display =\n",
              "        google.colab.kernel.accessAllowed ? 'block' : 'none';\n",
              "    })();\n",
              "  </script>\n",
              "</div>\n",
              "    </div>\n",
              "  </div>\n"
            ]
          },
          "metadata": {},
          "execution_count": 10
        }
      ],
      "source": [
        "df = pd.read_csv(\"/content/drive/MyDrive/DRDO dataset/diabetic_data.csv\")\n",
        "df.head()"
      ]
    },
    {
      "cell_type": "code",
      "execution_count": 11,
      "id": "598a6869",
      "metadata": {
        "execution": {
          "iopub.execute_input": "2023-10-27T08:43:21.073532Z",
          "iopub.status.busy": "2023-10-27T08:43:21.072951Z",
          "iopub.status.idle": "2023-10-27T08:43:21.370809Z",
          "shell.execute_reply": "2023-10-27T08:43:21.369698Z"
        },
        "papermill": {
          "duration": 0.310351,
          "end_time": "2023-10-27T08:43:21.372698",
          "exception": false,
          "start_time": "2023-10-27T08:43:21.062347",
          "status": "completed"
        },
        "tags": [],
        "id": "598a6869",
        "outputId": "d9cde981-9c27-4a8c-ee26-180f2f303867",
        "colab": {
          "base_uri": "https://localhost:8080/"
        }
      },
      "outputs": [
        {
          "output_type": "execute_result",
          "data": {
            "text/plain": [
              "37"
            ]
          },
          "metadata": {},
          "execution_count": 11
        }
      ],
      "source": [
        "df = df.replace(\"?\",np.nan)\n",
        "len(df.select_dtypes('O').columns)"
      ]
    },
    {
      "cell_type": "markdown",
      "source": [
        "#PREPROCESSING AND EDA\n"
      ],
      "metadata": {
        "id": "l1SnD09oXTE4"
      },
      "id": "l1SnD09oXTE4"
    },
    {
      "cell_type": "code",
      "execution_count": 12,
      "id": "95db2019",
      "metadata": {
        "execution": {
          "iopub.execute_input": "2023-10-27T08:43:21.392822Z",
          "iopub.status.busy": "2023-10-27T08:43:21.392436Z",
          "iopub.status.idle": "2023-10-27T08:43:21.466258Z",
          "shell.execute_reply": "2023-10-27T08:43:21.464979Z"
        },
        "papermill": {
          "duration": 0.087374,
          "end_time": "2023-10-27T08:43:21.469318",
          "exception": false,
          "start_time": "2023-10-27T08:43:21.381944",
          "status": "completed"
        },
        "tags": [],
        "id": "95db2019",
        "outputId": "9dd72513-3781-484e-fa3a-31234a048479",
        "colab": {
          "base_uri": "https://localhost:8080/",
          "height": 320
        }
      },
      "outputs": [
        {
          "output_type": "execute_result",
          "data": {
            "text/plain": [
              "       encounter_id   patient_nbr  admission_type_id  \\\n",
              "count  1.017660e+05  1.017660e+05      101766.000000   \n",
              "mean   1.652016e+08  5.433040e+07           2.024006   \n",
              "std    1.026403e+08  3.869636e+07           1.445403   \n",
              "min    1.252200e+04  1.350000e+02           1.000000   \n",
              "25%    8.496119e+07  2.341322e+07           1.000000   \n",
              "50%    1.523890e+08  4.550514e+07           1.000000   \n",
              "75%    2.302709e+08  8.754595e+07           3.000000   \n",
              "max    4.438672e+08  1.895026e+08           8.000000   \n",
              "\n",
              "       discharge_disposition_id  admission_source_id  time_in_hospital  \\\n",
              "count             101766.000000        101766.000000     101766.000000   \n",
              "mean                   3.715642             5.754437          4.395987   \n",
              "std                    5.280166             4.064081          2.985108   \n",
              "min                    1.000000             1.000000          1.000000   \n",
              "25%                    1.000000             1.000000          2.000000   \n",
              "50%                    1.000000             7.000000          4.000000   \n",
              "75%                    4.000000             7.000000          6.000000   \n",
              "max                   28.000000            25.000000         14.000000   \n",
              "\n",
              "       num_lab_procedures  num_procedures  num_medications  number_outpatient  \\\n",
              "count       101766.000000   101766.000000    101766.000000      101766.000000   \n",
              "mean            43.095641        1.339730        16.021844           0.369357   \n",
              "std             19.674362        1.705807         8.127566           1.267265   \n",
              "min              1.000000        0.000000         1.000000           0.000000   \n",
              "25%             31.000000        0.000000        10.000000           0.000000   \n",
              "50%             44.000000        1.000000        15.000000           0.000000   \n",
              "75%             57.000000        2.000000        20.000000           0.000000   \n",
              "max            132.000000        6.000000        81.000000          42.000000   \n",
              "\n",
              "       number_emergency  number_inpatient  number_diagnoses  \n",
              "count     101766.000000     101766.000000     101766.000000  \n",
              "mean           0.197836          0.635566          7.422607  \n",
              "std            0.930472          1.262863          1.933600  \n",
              "min            0.000000          0.000000          1.000000  \n",
              "25%            0.000000          0.000000          6.000000  \n",
              "50%            0.000000          0.000000          8.000000  \n",
              "75%            0.000000          1.000000          9.000000  \n",
              "max           76.000000         21.000000         16.000000  "
            ],
            "text/html": [
              "\n",
              "  <div id=\"df-d931117e-77cd-4756-9887-32d9b9c6106d\" class=\"colab-df-container\">\n",
              "    <div>\n",
              "<style scoped>\n",
              "    .dataframe tbody tr th:only-of-type {\n",
              "        vertical-align: middle;\n",
              "    }\n",
              "\n",
              "    .dataframe tbody tr th {\n",
              "        vertical-align: top;\n",
              "    }\n",
              "\n",
              "    .dataframe thead th {\n",
              "        text-align: right;\n",
              "    }\n",
              "</style>\n",
              "<table border=\"1\" class=\"dataframe\">\n",
              "  <thead>\n",
              "    <tr style=\"text-align: right;\">\n",
              "      <th></th>\n",
              "      <th>encounter_id</th>\n",
              "      <th>patient_nbr</th>\n",
              "      <th>admission_type_id</th>\n",
              "      <th>discharge_disposition_id</th>\n",
              "      <th>admission_source_id</th>\n",
              "      <th>time_in_hospital</th>\n",
              "      <th>num_lab_procedures</th>\n",
              "      <th>num_procedures</th>\n",
              "      <th>num_medications</th>\n",
              "      <th>number_outpatient</th>\n",
              "      <th>number_emergency</th>\n",
              "      <th>number_inpatient</th>\n",
              "      <th>number_diagnoses</th>\n",
              "    </tr>\n",
              "  </thead>\n",
              "  <tbody>\n",
              "    <tr>\n",
              "      <th>count</th>\n",
              "      <td>1.017660e+05</td>\n",
              "      <td>1.017660e+05</td>\n",
              "      <td>101766.000000</td>\n",
              "      <td>101766.000000</td>\n",
              "      <td>101766.000000</td>\n",
              "      <td>101766.000000</td>\n",
              "      <td>101766.000000</td>\n",
              "      <td>101766.000000</td>\n",
              "      <td>101766.000000</td>\n",
              "      <td>101766.000000</td>\n",
              "      <td>101766.000000</td>\n",
              "      <td>101766.000000</td>\n",
              "      <td>101766.000000</td>\n",
              "    </tr>\n",
              "    <tr>\n",
              "      <th>mean</th>\n",
              "      <td>1.652016e+08</td>\n",
              "      <td>5.433040e+07</td>\n",
              "      <td>2.024006</td>\n",
              "      <td>3.715642</td>\n",
              "      <td>5.754437</td>\n",
              "      <td>4.395987</td>\n",
              "      <td>43.095641</td>\n",
              "      <td>1.339730</td>\n",
              "      <td>16.021844</td>\n",
              "      <td>0.369357</td>\n",
              "      <td>0.197836</td>\n",
              "      <td>0.635566</td>\n",
              "      <td>7.422607</td>\n",
              "    </tr>\n",
              "    <tr>\n",
              "      <th>std</th>\n",
              "      <td>1.026403e+08</td>\n",
              "      <td>3.869636e+07</td>\n",
              "      <td>1.445403</td>\n",
              "      <td>5.280166</td>\n",
              "      <td>4.064081</td>\n",
              "      <td>2.985108</td>\n",
              "      <td>19.674362</td>\n",
              "      <td>1.705807</td>\n",
              "      <td>8.127566</td>\n",
              "      <td>1.267265</td>\n",
              "      <td>0.930472</td>\n",
              "      <td>1.262863</td>\n",
              "      <td>1.933600</td>\n",
              "    </tr>\n",
              "    <tr>\n",
              "      <th>min</th>\n",
              "      <td>1.252200e+04</td>\n",
              "      <td>1.350000e+02</td>\n",
              "      <td>1.000000</td>\n",
              "      <td>1.000000</td>\n",
              "      <td>1.000000</td>\n",
              "      <td>1.000000</td>\n",
              "      <td>1.000000</td>\n",
              "      <td>0.000000</td>\n",
              "      <td>1.000000</td>\n",
              "      <td>0.000000</td>\n",
              "      <td>0.000000</td>\n",
              "      <td>0.000000</td>\n",
              "      <td>1.000000</td>\n",
              "    </tr>\n",
              "    <tr>\n",
              "      <th>25%</th>\n",
              "      <td>8.496119e+07</td>\n",
              "      <td>2.341322e+07</td>\n",
              "      <td>1.000000</td>\n",
              "      <td>1.000000</td>\n",
              "      <td>1.000000</td>\n",
              "      <td>2.000000</td>\n",
              "      <td>31.000000</td>\n",
              "      <td>0.000000</td>\n",
              "      <td>10.000000</td>\n",
              "      <td>0.000000</td>\n",
              "      <td>0.000000</td>\n",
              "      <td>0.000000</td>\n",
              "      <td>6.000000</td>\n",
              "    </tr>\n",
              "    <tr>\n",
              "      <th>50%</th>\n",
              "      <td>1.523890e+08</td>\n",
              "      <td>4.550514e+07</td>\n",
              "      <td>1.000000</td>\n",
              "      <td>1.000000</td>\n",
              "      <td>7.000000</td>\n",
              "      <td>4.000000</td>\n",
              "      <td>44.000000</td>\n",
              "      <td>1.000000</td>\n",
              "      <td>15.000000</td>\n",
              "      <td>0.000000</td>\n",
              "      <td>0.000000</td>\n",
              "      <td>0.000000</td>\n",
              "      <td>8.000000</td>\n",
              "    </tr>\n",
              "    <tr>\n",
              "      <th>75%</th>\n",
              "      <td>2.302709e+08</td>\n",
              "      <td>8.754595e+07</td>\n",
              "      <td>3.000000</td>\n",
              "      <td>4.000000</td>\n",
              "      <td>7.000000</td>\n",
              "      <td>6.000000</td>\n",
              "      <td>57.000000</td>\n",
              "      <td>2.000000</td>\n",
              "      <td>20.000000</td>\n",
              "      <td>0.000000</td>\n",
              "      <td>0.000000</td>\n",
              "      <td>1.000000</td>\n",
              "      <td>9.000000</td>\n",
              "    </tr>\n",
              "    <tr>\n",
              "      <th>max</th>\n",
              "      <td>4.438672e+08</td>\n",
              "      <td>1.895026e+08</td>\n",
              "      <td>8.000000</td>\n",
              "      <td>28.000000</td>\n",
              "      <td>25.000000</td>\n",
              "      <td>14.000000</td>\n",
              "      <td>132.000000</td>\n",
              "      <td>6.000000</td>\n",
              "      <td>81.000000</td>\n",
              "      <td>42.000000</td>\n",
              "      <td>76.000000</td>\n",
              "      <td>21.000000</td>\n",
              "      <td>16.000000</td>\n",
              "    </tr>\n",
              "  </tbody>\n",
              "</table>\n",
              "</div>\n",
              "    <div class=\"colab-df-buttons\">\n",
              "\n",
              "  <div class=\"colab-df-container\">\n",
              "    <button class=\"colab-df-convert\" onclick=\"convertToInteractive('df-d931117e-77cd-4756-9887-32d9b9c6106d')\"\n",
              "            title=\"Convert this dataframe to an interactive table.\"\n",
              "            style=\"display:none;\">\n",
              "\n",
              "  <svg xmlns=\"http://www.w3.org/2000/svg\" height=\"24px\" viewBox=\"0 -960 960 960\">\n",
              "    <path d=\"M120-120v-720h720v720H120Zm60-500h600v-160H180v160Zm220 220h160v-160H400v160Zm0 220h160v-160H400v160ZM180-400h160v-160H180v160Zm440 0h160v-160H620v160ZM180-180h160v-160H180v160Zm440 0h160v-160H620v160Z\"/>\n",
              "  </svg>\n",
              "    </button>\n",
              "\n",
              "  <style>\n",
              "    .colab-df-container {\n",
              "      display:flex;\n",
              "      gap: 12px;\n",
              "    }\n",
              "\n",
              "    .colab-df-convert {\n",
              "      background-color: #E8F0FE;\n",
              "      border: none;\n",
              "      border-radius: 50%;\n",
              "      cursor: pointer;\n",
              "      display: none;\n",
              "      fill: #1967D2;\n",
              "      height: 32px;\n",
              "      padding: 0 0 0 0;\n",
              "      width: 32px;\n",
              "    }\n",
              "\n",
              "    .colab-df-convert:hover {\n",
              "      background-color: #E2EBFA;\n",
              "      box-shadow: 0px 1px 2px rgba(60, 64, 67, 0.3), 0px 1px 3px 1px rgba(60, 64, 67, 0.15);\n",
              "      fill: #174EA6;\n",
              "    }\n",
              "\n",
              "    .colab-df-buttons div {\n",
              "      margin-bottom: 4px;\n",
              "    }\n",
              "\n",
              "    [theme=dark] .colab-df-convert {\n",
              "      background-color: #3B4455;\n",
              "      fill: #D2E3FC;\n",
              "    }\n",
              "\n",
              "    [theme=dark] .colab-df-convert:hover {\n",
              "      background-color: #434B5C;\n",
              "      box-shadow: 0px 1px 3px 1px rgba(0, 0, 0, 0.15);\n",
              "      filter: drop-shadow(0px 1px 2px rgba(0, 0, 0, 0.3));\n",
              "      fill: #FFFFFF;\n",
              "    }\n",
              "  </style>\n",
              "\n",
              "    <script>\n",
              "      const buttonEl =\n",
              "        document.querySelector('#df-d931117e-77cd-4756-9887-32d9b9c6106d button.colab-df-convert');\n",
              "      buttonEl.style.display =\n",
              "        google.colab.kernel.accessAllowed ? 'block' : 'none';\n",
              "\n",
              "      async function convertToInteractive(key) {\n",
              "        const element = document.querySelector('#df-d931117e-77cd-4756-9887-32d9b9c6106d');\n",
              "        const dataTable =\n",
              "          await google.colab.kernel.invokeFunction('convertToInteractive',\n",
              "                                                    [key], {});\n",
              "        if (!dataTable) return;\n",
              "\n",
              "        const docLinkHtml = 'Like what you see? Visit the ' +\n",
              "          '<a target=\"_blank\" href=https://colab.research.google.com/notebooks/data_table.ipynb>data table notebook</a>'\n",
              "          + ' to learn more about interactive tables.';\n",
              "        element.innerHTML = '';\n",
              "        dataTable['output_type'] = 'display_data';\n",
              "        await google.colab.output.renderOutput(dataTable, element);\n",
              "        const docLink = document.createElement('div');\n",
              "        docLink.innerHTML = docLinkHtml;\n",
              "        element.appendChild(docLink);\n",
              "      }\n",
              "    </script>\n",
              "  </div>\n",
              "\n",
              "\n",
              "<div id=\"df-75933a40-665b-4e9d-b297-f8deb7bae5d6\">\n",
              "  <button class=\"colab-df-quickchart\" onclick=\"quickchart('df-75933a40-665b-4e9d-b297-f8deb7bae5d6')\"\n",
              "            title=\"Suggest charts\"\n",
              "            style=\"display:none;\">\n",
              "\n",
              "<svg xmlns=\"http://www.w3.org/2000/svg\" height=\"24px\"viewBox=\"0 0 24 24\"\n",
              "     width=\"24px\">\n",
              "    <g>\n",
              "        <path d=\"M19 3H5c-1.1 0-2 .9-2 2v14c0 1.1.9 2 2 2h14c1.1 0 2-.9 2-2V5c0-1.1-.9-2-2-2zM9 17H7v-7h2v7zm4 0h-2V7h2v10zm4 0h-2v-4h2v4z\"/>\n",
              "    </g>\n",
              "</svg>\n",
              "  </button>\n",
              "\n",
              "<style>\n",
              "  .colab-df-quickchart {\n",
              "      --bg-color: #E8F0FE;\n",
              "      --fill-color: #1967D2;\n",
              "      --hover-bg-color: #E2EBFA;\n",
              "      --hover-fill-color: #174EA6;\n",
              "      --disabled-fill-color: #AAA;\n",
              "      --disabled-bg-color: #DDD;\n",
              "  }\n",
              "\n",
              "  [theme=dark] .colab-df-quickchart {\n",
              "      --bg-color: #3B4455;\n",
              "      --fill-color: #D2E3FC;\n",
              "      --hover-bg-color: #434B5C;\n",
              "      --hover-fill-color: #FFFFFF;\n",
              "      --disabled-bg-color: #3B4455;\n",
              "      --disabled-fill-color: #666;\n",
              "  }\n",
              "\n",
              "  .colab-df-quickchart {\n",
              "    background-color: var(--bg-color);\n",
              "    border: none;\n",
              "    border-radius: 50%;\n",
              "    cursor: pointer;\n",
              "    display: none;\n",
              "    fill: var(--fill-color);\n",
              "    height: 32px;\n",
              "    padding: 0;\n",
              "    width: 32px;\n",
              "  }\n",
              "\n",
              "  .colab-df-quickchart:hover {\n",
              "    background-color: var(--hover-bg-color);\n",
              "    box-shadow: 0 1px 2px rgba(60, 64, 67, 0.3), 0 1px 3px 1px rgba(60, 64, 67, 0.15);\n",
              "    fill: var(--button-hover-fill-color);\n",
              "  }\n",
              "\n",
              "  .colab-df-quickchart-complete:disabled,\n",
              "  .colab-df-quickchart-complete:disabled:hover {\n",
              "    background-color: var(--disabled-bg-color);\n",
              "    fill: var(--disabled-fill-color);\n",
              "    box-shadow: none;\n",
              "  }\n",
              "\n",
              "  .colab-df-spinner {\n",
              "    border: 2px solid var(--fill-color);\n",
              "    border-color: transparent;\n",
              "    border-bottom-color: var(--fill-color);\n",
              "    animation:\n",
              "      spin 1s steps(1) infinite;\n",
              "  }\n",
              "\n",
              "  @keyframes spin {\n",
              "    0% {\n",
              "      border-color: transparent;\n",
              "      border-bottom-color: var(--fill-color);\n",
              "      border-left-color: var(--fill-color);\n",
              "    }\n",
              "    20% {\n",
              "      border-color: transparent;\n",
              "      border-left-color: var(--fill-color);\n",
              "      border-top-color: var(--fill-color);\n",
              "    }\n",
              "    30% {\n",
              "      border-color: transparent;\n",
              "      border-left-color: var(--fill-color);\n",
              "      border-top-color: var(--fill-color);\n",
              "      border-right-color: var(--fill-color);\n",
              "    }\n",
              "    40% {\n",
              "      border-color: transparent;\n",
              "      border-right-color: var(--fill-color);\n",
              "      border-top-color: var(--fill-color);\n",
              "    }\n",
              "    60% {\n",
              "      border-color: transparent;\n",
              "      border-right-color: var(--fill-color);\n",
              "    }\n",
              "    80% {\n",
              "      border-color: transparent;\n",
              "      border-right-color: var(--fill-color);\n",
              "      border-bottom-color: var(--fill-color);\n",
              "    }\n",
              "    90% {\n",
              "      border-color: transparent;\n",
              "      border-bottom-color: var(--fill-color);\n",
              "    }\n",
              "  }\n",
              "</style>\n",
              "\n",
              "  <script>\n",
              "    async function quickchart(key) {\n",
              "      const quickchartButtonEl =\n",
              "        document.querySelector('#' + key + ' button');\n",
              "      quickchartButtonEl.disabled = true;  // To prevent multiple clicks.\n",
              "      quickchartButtonEl.classList.add('colab-df-spinner');\n",
              "      try {\n",
              "        const charts = await google.colab.kernel.invokeFunction(\n",
              "            'suggestCharts', [key], {});\n",
              "      } catch (error) {\n",
              "        console.error('Error during call to suggestCharts:', error);\n",
              "      }\n",
              "      quickchartButtonEl.classList.remove('colab-df-spinner');\n",
              "      quickchartButtonEl.classList.add('colab-df-quickchart-complete');\n",
              "    }\n",
              "    (() => {\n",
              "      let quickchartButtonEl =\n",
              "        document.querySelector('#df-75933a40-665b-4e9d-b297-f8deb7bae5d6 button');\n",
              "      quickchartButtonEl.style.display =\n",
              "        google.colab.kernel.accessAllowed ? 'block' : 'none';\n",
              "    })();\n",
              "  </script>\n",
              "</div>\n",
              "    </div>\n",
              "  </div>\n"
            ]
          },
          "metadata": {},
          "execution_count": 12
        }
      ],
      "source": [
        "df.describe()"
      ]
    },
    {
      "cell_type": "code",
      "execution_count": 13,
      "id": "b47da771",
      "metadata": {
        "execution": {
          "iopub.execute_input": "2023-10-27T08:43:21.490489Z",
          "iopub.status.busy": "2023-10-27T08:43:21.490149Z",
          "iopub.status.idle": "2023-10-27T08:43:21.630456Z",
          "shell.execute_reply": "2023-10-27T08:43:21.629037Z"
        },
        "papermill": {
          "duration": 0.153571,
          "end_time": "2023-10-27T08:43:21.632619",
          "exception": false,
          "start_time": "2023-10-27T08:43:21.479048",
          "status": "completed"
        },
        "tags": [],
        "id": "b47da771",
        "outputId": "e1d11aa5-bfa9-462e-d8f3-c16c0518b7f1",
        "colab": {
          "base_uri": "https://localhost:8080/"
        }
      },
      "outputs": [
        {
          "output_type": "stream",
          "name": "stdout",
          "text": [
            "<class 'pandas.core.frame.DataFrame'>\n",
            "RangeIndex: 101766 entries, 0 to 101765\n",
            "Data columns (total 50 columns):\n",
            " #   Column                    Non-Null Count   Dtype \n",
            "---  ------                    --------------   ----- \n",
            " 0   encounter_id              101766 non-null  int64 \n",
            " 1   patient_nbr               101766 non-null  int64 \n",
            " 2   race                      99493 non-null   object\n",
            " 3   gender                    101766 non-null  object\n",
            " 4   age                       101766 non-null  object\n",
            " 5   weight                    3197 non-null    object\n",
            " 6   admission_type_id         101766 non-null  int64 \n",
            " 7   discharge_disposition_id  101766 non-null  int64 \n",
            " 8   admission_source_id       101766 non-null  int64 \n",
            " 9   time_in_hospital          101766 non-null  int64 \n",
            " 10  payer_code                61510 non-null   object\n",
            " 11  medical_specialty         51817 non-null   object\n",
            " 12  num_lab_procedures        101766 non-null  int64 \n",
            " 13  num_procedures            101766 non-null  int64 \n",
            " 14  num_medications           101766 non-null  int64 \n",
            " 15  number_outpatient         101766 non-null  int64 \n",
            " 16  number_emergency          101766 non-null  int64 \n",
            " 17  number_inpatient          101766 non-null  int64 \n",
            " 18  diag_1                    101745 non-null  object\n",
            " 19  diag_2                    101408 non-null  object\n",
            " 20  diag_3                    100343 non-null  object\n",
            " 21  number_diagnoses          101766 non-null  int64 \n",
            " 22  max_glu_serum             101766 non-null  object\n",
            " 23  A1Cresult                 101766 non-null  object\n",
            " 24  metformin                 101766 non-null  object\n",
            " 25  repaglinide               101766 non-null  object\n",
            " 26  nateglinide               101766 non-null  object\n",
            " 27  chlorpropamide            101766 non-null  object\n",
            " 28  glimepiride               101766 non-null  object\n",
            " 29  acetohexamide             101766 non-null  object\n",
            " 30  glipizide                 101766 non-null  object\n",
            " 31  glyburide                 101766 non-null  object\n",
            " 32  tolbutamide               101766 non-null  object\n",
            " 33  pioglitazone              101766 non-null  object\n",
            " 34  rosiglitazone             101766 non-null  object\n",
            " 35  acarbose                  101766 non-null  object\n",
            " 36  miglitol                  101766 non-null  object\n",
            " 37  troglitazone              101766 non-null  object\n",
            " 38  tolazamide                101766 non-null  object\n",
            " 39  examide                   101766 non-null  object\n",
            " 40  citoglipton               101766 non-null  object\n",
            " 41  insulin                   101766 non-null  object\n",
            " 42  glyburide-metformin       101766 non-null  object\n",
            " 43  glipizide-metformin       101766 non-null  object\n",
            " 44  glimepiride-pioglitazone  101766 non-null  object\n",
            " 45  metformin-rosiglitazone   101766 non-null  object\n",
            " 46  metformin-pioglitazone    101766 non-null  object\n",
            " 47  change                    101766 non-null  object\n",
            " 48  diabetesMed               101766 non-null  object\n",
            " 49  readmitted                101766 non-null  object\n",
            "dtypes: int64(13), object(37)\n",
            "memory usage: 38.8+ MB\n"
          ]
        }
      ],
      "source": [
        "df.info()"
      ]
    },
    {
      "cell_type": "code",
      "execution_count": 14,
      "id": "87e26f70",
      "metadata": {
        "execution": {
          "iopub.execute_input": "2023-10-27T08:43:21.653262Z",
          "iopub.status.busy": "2023-10-27T08:43:21.652648Z",
          "iopub.status.idle": "2023-10-27T08:43:21.816702Z",
          "shell.execute_reply": "2023-10-27T08:43:21.815525Z"
        },
        "papermill": {
          "duration": 0.176774,
          "end_time": "2023-10-27T08:43:21.818917",
          "exception": false,
          "start_time": "2023-10-27T08:43:21.642143",
          "status": "completed"
        },
        "tags": [],
        "id": "87e26f70",
        "outputId": "11e97f5b-6364-4594-e92f-5328d27c6b96",
        "colab": {
          "base_uri": "https://localhost:8080/",
          "height": 406
        }
      },
      "outputs": [
        {
          "output_type": "display_data",
          "data": {
            "text/plain": [
              "<Figure size 640x480 with 1 Axes>"
            ],
            "image/png": "[encoded data removed]"
          },
          "metadata": {}
        }
      ],
      "source": [
        "# Calculate the value counts of 'readmitted' and their relative frequencies\n",
        "counts = df['readmitted'].value_counts()  # Count the occurrences of each unique value\n",
        "percentages = counts * 100 / len(df)  # Calculate the percentage of each value relative to the total data\n",
        "\n",
        "# Create a pie chart to visualize the distribution of 'readmitted' values\n",
        "fig, ax = plt.subplots()  # Create a new figure and axis\n",
        "percentages.plot(kind='pie', ax=ax, autopct='%1.1f%%')  # Create a pie chart with percentages and display it\n",
        "plt.show()  # Show the pie chart"
      ]
    },
    {
      "cell_type": "code",
      "execution_count": 15,
      "id": "2ee1ee0d",
      "metadata": {
        "execution": {
          "iopub.execute_input": "2023-10-27T08:43:21.840109Z",
          "iopub.status.busy": "2023-10-27T08:43:21.839473Z",
          "iopub.status.idle": "2023-10-27T08:43:22.071302Z",
          "shell.execute_reply": "2023-10-27T08:43:22.070044Z"
        },
        "papermill": {
          "duration": 0.245212,
          "end_time": "2023-10-27T08:43:22.073851",
          "exception": false,
          "start_time": "2023-10-27T08:43:21.828639",
          "status": "completed"
        },
        "tags": [],
        "id": "2ee1ee0d",
        "outputId": "fc5fe5ee-3ca6-43ad-c502-f045e2a43594",
        "colab": {
          "base_uri": "https://localhost:8080/"
        }
      },
      "outputs": [
        {
          "output_type": "execute_result",
          "data": {
            "text/plain": [
              "race                  2.233555\n",
              "weight               96.858479\n",
              "payer_code           39.557416\n",
              "medical_specialty    49.082208\n",
              "diag_1                0.020636\n",
              "diag_2                0.351787\n",
              "diag_3                1.398306\n",
              "dtype: float64"
            ]
          },
          "metadata": {},
          "execution_count": 15
        }
      ],
      "source": [
        "df.isnull().sum()[df.isnull().sum()>1]/len(df)*100"
      ]
    },
    {
      "cell_type": "code",
      "execution_count": 16,
      "id": "2bcdadc7",
      "metadata": {
        "execution": {
          "iopub.execute_input": "2023-10-27T08:43:22.095483Z",
          "iopub.status.busy": "2023-10-27T08:43:22.095109Z",
          "iopub.status.idle": "2023-10-27T08:43:22.162709Z",
          "shell.execute_reply": "2023-10-27T08:43:22.161456Z"
        },
        "papermill": {
          "duration": 0.080874,
          "end_time": "2023-10-27T08:43:22.165017",
          "exception": false,
          "start_time": "2023-10-27T08:43:22.084143",
          "status": "completed"
        },
        "tags": [],
        "id": "2bcdadc7"
      },
      "outputs": [],
      "source": [
        "df.drop(['weight','payer_code','medical_specialty'],axis=1,inplace=True)"
      ]
    },
    {
      "cell_type": "code",
      "source": [
        "# Set the figure size\n",
        "plt.figure(figsize=(12, 8))\n",
        "\n",
        "# Create a heatmap for the correlation matrix of your DataFrame\n",
        "sns.heatmap(df.corr(), annot=True, cmap='viridis', fmt=\".2f\")\n",
        "\n",
        "# Set a title for the heatmap\n",
        "plt.title(\"Correlation Heatmap\")\n",
        "\n",
        "# Show the heatmap\n",
        "plt.show()"
      ],
      "metadata": {
        "colab": {
          "base_uri": "https://localhost:8080/",
          "height": 884
        },
        "id": "xAPoTde0Wox8",
        "outputId": "9a1743c0-d84d-4a98-c417-d807f9b94701"
      },
      "id": "xAPoTde0Wox8",
      "execution_count": 53,
      "outputs": [
        {
          "output_type": "stream",
          "name": "stderr",
          "text": [
            "<ipython-input-53-dbb1b8e89f1b>:5: FutureWarning: The default value of numeric_only in DataFrame.corr is deprecated. In a future version, it will default to False. Select only valid columns or specify the value of numeric_only to silence this warning.\n",
            "  sns.heatmap(df.corr(), annot=True, cmap='viridis', fmt=\".2f\")\n"
          ]
        },
        {
          "output_type": "display_data",
          "data": {
            "text/plain": [
              "<Figure size 1200x800 with 2 Axes>"
            ],
            "image/png": "[encoded data removed]"
          },
          "metadata": {}
        }
      ]
    },
    {
      "cell_type": "code",
      "execution_count": 17,
      "id": "7b934a85",
      "metadata": {
        "execution": {
          "iopub.execute_input": "2023-10-27T08:43:22.186439Z",
          "iopub.status.busy": "2023-10-27T08:43:22.186095Z",
          "iopub.status.idle": "2023-10-27T08:43:22.199375Z",
          "shell.execute_reply": "2023-10-27T08:43:22.197592Z"
        },
        "papermill": {
          "duration": 0.02676,
          "end_time": "2023-10-27T08:43:22.201831",
          "exception": false,
          "start_time": "2023-10-27T08:43:22.175071",
          "status": "completed"
        },
        "tags": [],
        "id": "7b934a85",
        "outputId": "28dc084a-8486-4afe-c211-78b0c1441790",
        "colab": {
          "base_uri": "https://localhost:8080/"
        }
      },
      "outputs": [
        {
          "output_type": "execute_result",
          "data": {
            "text/plain": [
              "array(['NO', '>30', '<30'], dtype=object)"
            ]
          },
          "metadata": {},
          "execution_count": 17
        }
      ],
      "source": [
        "df['readmitted'].unique()"
      ]
    },
    {
      "cell_type": "code",
      "execution_count": 55,
      "id": "f7a6f5fd",
      "metadata": {
        "execution": {
          "iopub.execute_input": "2023-10-27T08:43:22.224143Z",
          "iopub.status.busy": "2023-10-27T08:43:22.223752Z",
          "iopub.status.idle": "2023-10-27T08:43:22.972657Z",
          "shell.execute_reply": "2023-10-27T08:43:22.971630Z"
        },
        "papermill": {
          "duration": 0.76252,
          "end_time": "2023-10-27T08:43:22.974755",
          "exception": false,
          "start_time": "2023-10-27T08:43:22.212235",
          "status": "completed"
        },
        "tags": [],
        "id": "f7a6f5fd",
        "outputId": "05460e96-8f6b-44a2-cf71-f2d67de3b53f",
        "colab": {
          "base_uri": "https://localhost:8080/",
          "height": 524
        }
      },
      "outputs": [
        {
          "output_type": "stream",
          "name": "stdout",
          "text": [
            "0    90406\n",
            "1    11357\n",
            "Name: readmitted, dtype: int64\n"
          ]
        },
        {
          "output_type": "display_data",
          "data": {
            "text/plain": [
              "<Figure size 640x480 with 1 Axes>"
            ],
            "image/png": "[encoded data removed]"
          },
          "metadata": {}
        }
      ],
      "source": [
        "# Replace values in the 'readmitted' column with numerical values (0 and 1)\n",
        "df = df.replace({\"NO\": 0, \"<30\": 1, \">30\": 0})\n",
        "\n",
        "# Print the value counts of the 'readmitted' column after replacement\n",
        "print(df.readmitted.value_counts())\n",
        "\n",
        "# Create a countplot to visualize the distribution of target values in the 'readmitted' column\n",
        "sns.countplot(x=\"readmitted\", data=df)  # Create a countplot using Seaborn\n",
        "plt.title(\"Distribution of Target Values\")  # Set the title for the plot\n",
        "plt.show()  # Display the countplot\n"
      ]
    },
    {
      "cell_type": "code",
      "source": [
        "df.readmitted.value_counts().plot.pie(autopct = \"%.1f%%\")\n",
        "plt.title(\"Proportion of Target Value\")\n",
        "plt.show()"
      ],
      "metadata": {
        "colab": {
          "base_uri": "https://localhost:8080/",
          "height": 428
        },
        "id": "6DUjnTLbXg7p",
        "outputId": "b371c9ed-b08c-47df-96d1-9e383f9102db"
      },
      "id": "6DUjnTLbXg7p",
      "execution_count": 56,
      "outputs": [
        {
          "output_type": "display_data",
          "data": {
            "text/plain": [
              "<Figure size 640x480 with 1 Axes>"
            ],
            "image/png": "[encoded data removed]"
          },
          "metadata": {}
        }
      ]
    },
    {
      "cell_type": "code",
      "execution_count": 19,
      "id": "806848d0",
      "metadata": {
        "execution": {
          "iopub.execute_input": "2023-10-27T08:43:22.998268Z",
          "iopub.status.busy": "2023-10-27T08:43:22.997931Z",
          "iopub.status.idle": "2023-10-27T08:43:23.249489Z",
          "shell.execute_reply": "2023-10-27T08:43:23.247736Z"
        },
        "papermill": {
          "duration": 0.266204,
          "end_time": "2023-10-27T08:43:23.252100",
          "exception": false,
          "start_time": "2023-10-27T08:43:22.985896",
          "status": "completed"
        },
        "tags": [],
        "id": "806848d0",
        "outputId": "f54f27dd-1571-4045-d999-7c7ea077bf0b",
        "colab": {
          "base_uri": "https://localhost:8080/",
          "height": 694
        }
      },
      "outputs": [
        {
          "output_type": "stream",
          "name": "stdout",
          "text": [
            "Proportion of Race\n",
            "Caucasian          76.486788\n",
            "AfricanAmerican    19.307891\n",
            "Hispanic            2.047380\n",
            "Other               1.513674\n",
            "Asian               0.644266\n",
            "Name: race, dtype: float64\n"
          ]
        },
        {
          "output_type": "display_data",
          "data": {
            "text/plain": [
              "<Figure size 640x480 with 1 Axes>"
            ],
            "image/png": "[encoded data removed]"
          },
          "metadata": {}
        }
      ],
      "source": [
        "# Print the proportion of each 'race' category in the DataFrame\n",
        "print(\"Proportion of Race\")\n",
        "print(df.race.value_counts(normalize=True) * 100)\n",
        "# Create a countplot to visualize the distribution of 'race' values in the DataFrame\n",
        "sns.countplot(x=df.race, data=df)  # Create a countplot using Seaborn\n",
        "plt.xticks(rotation=90)  # Rotate the x-axis labels for better visibility\n",
        "plt.title(\"Number of Race values\")  # Set the title for the plot\n",
        "plt.show()  # Display the countplot"
      ]
    },
    {
      "cell_type": "code",
      "execution_count": 20,
      "id": "78ab8af3",
      "metadata": {
        "execution": {
          "iopub.execute_input": "2023-10-27T08:43:23.277403Z",
          "iopub.status.busy": "2023-10-27T08:43:23.277022Z",
          "iopub.status.idle": "2023-10-27T08:43:23.538893Z",
          "shell.execute_reply": "2023-10-27T08:43:23.537935Z"
        },
        "papermill": {
          "duration": 0.276712,
          "end_time": "2023-10-27T08:43:23.540893",
          "exception": false,
          "start_time": "2023-10-27T08:43:23.264181",
          "status": "completed"
        },
        "tags": [],
        "id": "78ab8af3",
        "outputId": "7e804e36-3f19-4eb3-b3d9-dc4329d46f72",
        "colab": {
          "base_uri": "https://localhost:8080/",
          "height": 472
        }
      },
      "outputs": [
        {
          "output_type": "display_data",
          "data": {
            "text/plain": [
              "<Figure size 640x480 with 1 Axes>"
            ],
            "image/png": "[encoded data removed]"
          },
          "metadata": {}
        }
      ],
      "source": [
        "sns.countplot(x=\"race\", hue= \"readmitted\", data = df)\n",
        "plt.title(\"Readmitted - Race\")\n",
        "plt.show()"
      ]
    },
    {
      "cell_type": "code",
      "execution_count": 21,
      "id": "a9a2d42a",
      "metadata": {
        "execution": {
          "iopub.execute_input": "2023-10-27T08:43:23.621811Z",
          "iopub.status.busy": "2023-10-27T08:43:23.620698Z",
          "iopub.status.idle": "2023-10-27T08:43:25.355722Z",
          "shell.execute_reply": "2023-10-27T08:43:25.354361Z"
        },
        "papermill": {
          "duration": 1.750292,
          "end_time": "2023-10-27T08:43:25.358058",
          "exception": false,
          "start_time": "2023-10-27T08:43:23.607766",
          "status": "completed"
        },
        "tags": [],
        "id": "a9a2d42a",
        "outputId": "4bc969ee-653f-4ac0-bf5b-210996f6e07a",
        "colab": {
          "base_uri": "https://localhost:8080/",
          "height": 629
        }
      },
      "outputs": [
        {
          "output_type": "display_data",
          "data": {
            "text/plain": [
              "<Figure size 600x600 with 1 Axes>"
            ],
            "image/png": "[encoded data removed]"
          },
          "metadata": {}
        }
      ],
      "source": [
        "sns.catplot(x = \"race\", y = \"readmitted\",data = df, kind = \"bar\", height= 6)\n",
        "plt.title(\"Readmitted Probability\")\n",
        "plt.show()"
      ]
    },
    {
      "cell_type": "code",
      "execution_count": 22,
      "id": "0fd2ccc0",
      "metadata": {
        "execution": {
          "iopub.execute_input": "2023-10-27T08:43:25.383186Z",
          "iopub.status.busy": "2023-10-27T08:43:25.382843Z",
          "iopub.status.idle": "2023-10-27T08:43:25.594927Z",
          "shell.execute_reply": "2023-10-27T08:43:25.593844Z"
        },
        "papermill": {
          "duration": 0.227467,
          "end_time": "2023-10-27T08:43:25.597257",
          "exception": false,
          "start_time": "2023-10-27T08:43:25.369790",
          "status": "completed"
        },
        "tags": [],
        "id": "0fd2ccc0",
        "outputId": "aaabce89-2ca0-4f98-e2eb-5869fd2b0b65",
        "colab": {
          "base_uri": "https://localhost:8080/",
          "height": 559
        }
      },
      "outputs": [
        {
          "output_type": "stream",
          "name": "stdout",
          "text": [
            "Proportions of Race Value\n",
            "Female             0.537586\n",
            "Male               0.462384\n",
            "Unknown/Invalid    0.000029\n",
            "Name: gender, dtype: float64\n"
          ]
        },
        {
          "output_type": "display_data",
          "data": {
            "text/plain": [
              "<Figure size 640x480 with 1 Axes>"
            ],
            "image/png": "[encoded data removed]"
          },
          "metadata": {}
        }
      ],
      "source": [
        "print(\"Proportions of Race Value\")\n",
        "print(df.gender.value_counts(normalize = True))\n",
        "\n",
        "sns.countplot(x = \"gender\", data = df)\n",
        "plt.title(\"Distribution of Number of Gender\")\n",
        "plt.show()\n"
      ]
    },
    {
      "cell_type": "code",
      "execution_count": 23,
      "id": "417e3758",
      "metadata": {
        "execution": {
          "iopub.execute_input": "2023-10-27T08:43:25.623423Z",
          "iopub.status.busy": "2023-10-27T08:43:25.623009Z",
          "iopub.status.idle": "2023-10-27T08:43:26.115730Z",
          "shell.execute_reply": "2023-10-27T08:43:26.114628Z"
        },
        "papermill": {
          "duration": 0.508132,
          "end_time": "2023-10-27T08:43:26.117746",
          "exception": false,
          "start_time": "2023-10-27T08:43:25.609614",
          "status": "completed"
        },
        "tags": [],
        "id": "417e3758",
        "outputId": "cbc7face-b3a7-45e2-98e6-57c1a5dc2cbb",
        "colab": {
          "base_uri": "https://localhost:8080/",
          "height": 927
        }
      },
      "outputs": [
        {
          "output_type": "display_data",
          "data": {
            "text/plain": [
              "<Figure size 640x480 with 1 Axes>"
            ],
            "image/png": "[encoded data removed]"
          },
          "metadata": {}
        },
        {
          "output_type": "display_data",
          "data": {
            "text/plain": [
              "<Figure size 640x480 with 1 Axes>"
            ],
            "image/png": "[encoded data removed]"
          },
          "metadata": {}
        }
      ],
      "source": [
        "df = df.drop(df.loc[df[\"gender\"]==\"Unknown/Invalid\"].index, axis=0)\n",
        "\n",
        "sns.countplot(x = \"gender\", data = df)\n",
        "plt.title(\"Distribution of Number of Gender After Dropping\")\n",
        "plt.show()\n",
        "\n",
        "sns.countplot(x = \"gender\", hue = \"readmitted\", data = df)\n",
        "plt.title(\"Gender - Readmitted\")\n",
        "plt.show()"
      ]
    },
    {
      "cell_type": "code",
      "execution_count": 24,
      "id": "e57ed59a",
      "metadata": {
        "execution": {
          "iopub.execute_input": "2023-10-27T08:43:26.144500Z",
          "iopub.status.busy": "2023-10-27T08:43:26.144172Z",
          "iopub.status.idle": "2023-10-27T08:43:26.366032Z",
          "shell.execute_reply": "2023-10-27T08:43:26.364479Z"
        },
        "papermill": {
          "duration": 0.237731,
          "end_time": "2023-10-27T08:43:26.368225",
          "exception": false,
          "start_time": "2023-10-27T08:43:26.130494",
          "status": "completed"
        },
        "tags": [],
        "id": "e57ed59a",
        "outputId": "e6ec0917-2d5c-4f15-b134-9aeee428c765",
        "colab": {
          "base_uri": "https://localhost:8080/",
          "height": 495
        }
      },
      "outputs": [
        {
          "output_type": "display_data",
          "data": {
            "text/plain": [
              "<Figure size 640x480 with 1 Axes>"
            ],
            "image/png": "[encoded data removed]"
          },
          "metadata": {}
        }
      ],
      "source": [
        "sns.countplot(x=\"age\", data = df)\n",
        "plt.xticks(rotation = 90)\n",
        "plt.show()"
      ]
    },
    {
      "cell_type": "code",
      "execution_count": 25,
      "id": "282bb48d",
      "metadata": {
        "execution": {
          "iopub.execute_input": "2023-10-27T08:43:26.395512Z",
          "iopub.status.busy": "2023-10-27T08:43:26.395123Z",
          "iopub.status.idle": "2023-10-27T08:43:26.714079Z",
          "shell.execute_reply": "2023-10-27T08:43:26.713307Z"
        },
        "papermill": {
          "duration": 0.335152,
          "end_time": "2023-10-27T08:43:26.716212",
          "exception": false,
          "start_time": "2023-10-27T08:43:26.381060",
          "status": "completed"
        },
        "tags": [],
        "id": "282bb48d",
        "outputId": "41e3329a-0b4a-4953-97cf-c5eaae8e9f48",
        "colab": {
          "base_uri": "https://localhost:8080/",
          "height": 449
        }
      },
      "outputs": [
        {
          "output_type": "display_data",
          "data": {
            "text/plain": [
              "<Figure size 640x480 with 1 Axes>"
            ],
            "image/png": "[encoded data removed]"
          },
          "metadata": {}
        }
      ],
      "source": [
        "df.age = df.age.replace({\"[70-80)\":75,\n",
        "                         \"[60-70)\":65,\n",
        "                         \"[50-60)\":55,\n",
        "                         \"[80-90)\":85,\n",
        "                         \"[40-50)\":45,\n",
        "                         \"[30-40)\":35,\n",
        "                         \"[90-100)\":95,\n",
        "                         \"[20-30)\":25,\n",
        "                         \"[10-20)\":15,\n",
        "                         \"[0-10)\":5})\n",
        "\n",
        "sns.countplot(x=\"age\", data = df)\n",
        "plt.show()"
      ]
    },
    {
      "cell_type": "code",
      "execution_count": 26,
      "id": "1aeb34e7",
      "metadata": {
        "execution": {
          "iopub.execute_input": "2023-10-27T08:43:26.745444Z",
          "iopub.status.busy": "2023-10-27T08:43:26.744873Z",
          "iopub.status.idle": "2023-10-27T08:43:26.940467Z",
          "shell.execute_reply": "2023-10-27T08:43:26.939467Z"
        },
        "papermill": {
          "duration": 0.212079,
          "end_time": "2023-10-27T08:43:26.942374",
          "exception": false,
          "start_time": "2023-10-27T08:43:26.730295",
          "status": "completed"
        },
        "tags": [],
        "id": "1aeb34e7",
        "outputId": "29dd5855-32bd-4e1c-8e49-e04e67b7b13b",
        "colab": {
          "base_uri": "https://localhost:8080/",
          "height": 646
        }
      },
      "outputs": [
        {
          "output_type": "stream",
          "name": "stdout",
          "text": [
            "Distribution of ID's\n",
            "1    53988\n",
            "3    18868\n",
            "2    18480\n",
            "6     5291\n",
            "5     4785\n",
            "8      320\n",
            "7       21\n",
            "4       10\n",
            "Name: admission_type_id, dtype: int64\n"
          ]
        },
        {
          "output_type": "display_data",
          "data": {
            "text/plain": [
              "<Figure size 640x480 with 1 Axes>"
            ],
            "image/png": "[encoded data removed]"
          },
          "metadata": {}
        }
      ],
      "source": [
        "print(\"Distribution of ID's\")\n",
        "print(df.admission_type_id.value_counts())\n",
        "\n",
        "sns.countplot(x = \"admission_type_id\", data = df)\n",
        "plt.title(\"Distribution of Admission IDs\")\n",
        "plt.show()"
      ]
    },
    {
      "cell_type": "code",
      "execution_count": 66,
      "id": "27b926b3",
      "metadata": {
        "execution": {
          "iopub.execute_input": "2023-10-27T08:43:26.972982Z",
          "iopub.status.busy": "2023-10-27T08:43:26.972649Z",
          "iopub.status.idle": "2023-10-27T08:43:27.219250Z",
          "shell.execute_reply": "2023-10-27T08:43:27.217817Z"
        },
        "papermill": {
          "duration": 0.264554,
          "end_time": "2023-10-27T08:43:27.221605",
          "exception": false,
          "start_time": "2023-10-27T08:43:26.957051",
          "status": "completed"
        },
        "tags": [],
        "id": "27b926b3",
        "outputId": "1516a6d0-0299-43cc-d90b-552e4450efbe",
        "colab": {
          "base_uri": "https://localhost:8080/",
          "height": 576
        }
      },
      "outputs": [
        {
          "output_type": "stream",
          "name": "stdout",
          "text": [
            "-Distribution of ID's-\n",
            "Emergency        82864\n",
            "Elective         18868\n",
            "Trauma Center       21\n",
            "New Born            10\n",
            "Name: admission_type_id, dtype: int64\n"
          ]
        },
        {
          "output_type": "display_data",
          "data": {
            "text/plain": [
              "<Figure size 640x480 with 1 Axes>"
            ],
            "image/png": "[encoded data removed]"
          },
          "metadata": {}
        }
      ],
      "source": [
        "# Create a mapping of admission type IDs to their corresponding categories\n",
        "mapped = {\n",
        "    1.0: \"Emergency\",\n",
        "    2.0: \"Emergency\",\n",
        "    3.0: \"Elective\",\n",
        "    4.0: \"New Born\",\n",
        "    5.0: np.nan,\n",
        "    6.0: np.nan,\n",
        "    7.0: \"Trauma Center\",\n",
        "    8.0: np.nan\n",
        "}\n",
        "\n",
        "# Replace admission_type_id values with their mapped categories\n",
        "df.admission_type_id = df.admission_type_id.replace(mapped)\n",
        "\n",
        "# Print the distribution of admission type categories\n",
        "print(\"-Distribution of ID's-\")\n",
        "print(df.admission_type_id.value_counts())\n",
        "\n",
        "# Create a countplot to visualize the distribution of admission type categories\n",
        "sns.countplot(x=\"admission_type_id\", data=df)\n",
        "plt.title(\"-Distribution of Admission IDs-\")\n",
        "plt.show()\n"
      ]
    },
    {
      "cell_type": "code",
      "execution_count": 28,
      "id": "4f019d98",
      "metadata": {
        "execution": {
          "iopub.execute_input": "2023-10-27T08:43:27.251934Z",
          "iopub.status.busy": "2023-10-27T08:43:27.251586Z",
          "iopub.status.idle": "2023-10-27T08:43:27.289938Z",
          "shell.execute_reply": "2023-10-27T08:43:27.288163Z"
        },
        "papermill": {
          "duration": 0.056746,
          "end_time": "2023-10-27T08:43:27.292605",
          "exception": false,
          "start_time": "2023-10-27T08:43:27.235859",
          "status": "completed"
        },
        "tags": [],
        "id": "4f019d98"
      },
      "outputs": [],
      "source": [
        "mapped_discharge = {1:\"Discharged to Home\",\n",
        "                    6:\"Discharged to Home\",\n",
        "                    8:\"Discharged to Home\",\n",
        "                    13:\"Discharged to Home\",\n",
        "                    19:\"Discharged to Home\",\n",
        "                    18:np.nan,25:np.nan,26:np.nan,\n",
        "                    2:\"Other\",3:\"Other\",4:\"Other\",\n",
        "                    5:\"Other\",7:\"Other\",9:\"Other\",\n",
        "                    10:\"Other\",11:\"Other\",12:\"Other\",\n",
        "                    14:\"Other\",15:\"Other\",16:\"Other\",\n",
        "                    17:\"Other\",20:\"Other\",21:\"Other\",\n",
        "                    22:\"Other\",23:\"Other\",24:\"Other\",\n",
        "                    27:\"Other\",28:\"Other\",29:\"Other\",30:\"Other\"}\n",
        "\n",
        "df[\"discharge_disposition_id\"] = df[\"discharge_disposition_id\"].replace(mapped_discharge)"
      ]
    },
    {
      "cell_type": "code",
      "execution_count": 29,
      "id": "2b217f0e",
      "metadata": {
        "execution": {
          "iopub.execute_input": "2023-10-27T08:43:27.322047Z",
          "iopub.status.busy": "2023-10-27T08:43:27.321692Z",
          "iopub.status.idle": "2023-10-27T08:43:27.331933Z",
          "shell.execute_reply": "2023-10-27T08:43:27.330534Z"
        },
        "papermill": {
          "duration": 0.027425,
          "end_time": "2023-10-27T08:43:27.333961",
          "exception": false,
          "start_time": "2023-10-27T08:43:27.306536",
          "status": "completed"
        },
        "tags": [],
        "id": "2b217f0e",
        "outputId": "2aa4ebdb-6a4e-48d4-d203-9fabd0d73473",
        "colab": {
          "base_uri": "https://localhost:8080/"
        }
      },
      "outputs": [
        {
          "output_type": "execute_result",
          "data": {
            "text/plain": [
              "array([nan, 'Discharged to Home', 'Other'], dtype=object)"
            ]
          },
          "metadata": {},
          "execution_count": 29
        }
      ],
      "source": [
        "df['discharge_disposition_id'].unique()"
      ]
    },
    {
      "cell_type": "code",
      "execution_count": 30,
      "id": "d5051af6",
      "metadata": {
        "execution": {
          "iopub.execute_input": "2023-10-27T08:43:27.365072Z",
          "iopub.status.busy": "2023-10-27T08:43:27.364727Z",
          "iopub.status.idle": "2023-10-27T08:43:27.758361Z",
          "shell.execute_reply": "2023-10-27T08:43:27.757436Z"
        },
        "papermill": {
          "duration": 0.411434,
          "end_time": "2023-10-27T08:43:27.760259",
          "exception": false,
          "start_time": "2023-10-27T08:43:27.348825",
          "status": "completed"
        },
        "tags": [],
        "id": "d5051af6",
        "outputId": "4956ce55-2d0f-4043-8f7d-6deeb9847410",
        "colab": {
          "base_uri": "https://localhost:8080/",
          "height": 952
        }
      },
      "outputs": [
        {
          "output_type": "stream",
          "name": "stdout",
          "text": [
            "Proportions of ID's\n",
            "Discharged to Home    73649\n",
            "Other                 23434\n",
            "Name: discharge_disposition_id, dtype: int64\n"
          ]
        },
        {
          "output_type": "display_data",
          "data": {
            "text/plain": [
              "<Figure size 640x480 with 1 Axes>"
            ],
            "image/png": "[encoded data removed]"
          },
          "metadata": {}
        },
        {
          "output_type": "display_data",
          "data": {
            "text/plain": [
              "<Figure size 640x480 with 1 Axes>"
            ],
            "image/png": "[encoded data removed]"
          },
          "metadata": {}
        }
      ],
      "source": [
        "print(\"Proportions of ID's\")\n",
        "print(df.discharge_disposition_id.value_counts())\n",
        "\n",
        "sns.countplot(x =\"discharge_disposition_id\", data = df)\n",
        "plt.show()\n",
        "\n",
        "sns.countplot(x =\"discharge_disposition_id\", hue = \"readmitted\", data = df)\n",
        "plt.show()"
      ]
    },
    {
      "cell_type": "code",
      "execution_count": 57,
      "id": "f2fa0a9c",
      "metadata": {
        "execution": {
          "iopub.execute_input": "2023-10-27T08:43:27.791013Z",
          "iopub.status.busy": "2023-10-27T08:43:27.790363Z",
          "iopub.status.idle": "2023-10-27T08:43:28.237036Z",
          "shell.execute_reply": "2023-10-27T08:43:28.235915Z"
        },
        "papermill": {
          "duration": 0.464424,
          "end_time": "2023-10-27T08:43:28.238941",
          "exception": false,
          "start_time": "2023-10-27T08:43:27.774517",
          "status": "completed"
        },
        "tags": [],
        "id": "f2fa0a9c",
        "outputId": "7129d33e-b666-426e-eaae-bb9389deb406",
        "colab": {
          "base_uri": "https://localhost:8080/",
          "height": 519
        }
      },
      "outputs": [
        {
          "output_type": "stream",
          "name": "stdout",
          "text": [
            "Emergency    64434\n",
            "Referral     30855\n",
            "Other         6474\n",
            "Name: admission_source_id, dtype: int64\n"
          ]
        },
        {
          "output_type": "display_data",
          "data": {
            "text/plain": [
              "<Figure size 640x480 with 1 Axes>"
            ],
            "image/png": "[encoded data removed]"
          },
          "metadata": {}
        }
      ],
      "source": [
        "mapped_adm = {1:\"Referral\",2:\"Referral\",3:\"Referral\",\n",
        "              4:\"Other\",5:\"Other\",6:\"Other\",10:\"Other\",22:\"Other\",25:\"Other\",\n",
        "              9:\"Other\",8:\"Other\",14:\"Other\",13:\"Other\",11:\"Other\",\n",
        "              15:np.nan,17:np.nan,20:np.nan,21:np.nan,\n",
        "              7:\"Emergency\"}\n",
        "df.admission_source_id = df.admission_source_id.replace(mapped_adm)\n",
        "print(df.admission_source_id.value_counts())\n",
        "\n",
        "sns.countplot(x = \"admission_source_id\", data = df)\n",
        "plt.show()\n",
        "\n"
      ]
    },
    {
      "cell_type": "code",
      "source": [
        "sns.countplot(x = \"admission_source_id\", hue = \"readmitted\", data = df)\n",
        "plt.title(\"Admission Source - Readmitted\")\n",
        "plt.show()"
      ],
      "metadata": {
        "colab": {
          "base_uri": "https://localhost:8080/",
          "height": 472
        },
        "id": "WMRPvOlXYLV4",
        "outputId": "4d44da2c-e63f-4621-812d-7712aa226023"
      },
      "id": "WMRPvOlXYLV4",
      "execution_count": 58,
      "outputs": [
        {
          "output_type": "display_data",
          "data": {
            "text/plain": [
              "<Figure size 640x480 with 1 Axes>"
            ],
            "image/png": "[encoded data removed]"
          },
          "metadata": {}
        }
      ]
    },
    {
      "cell_type": "code",
      "execution_count": 32,
      "id": "05e6dc26",
      "metadata": {
        "execution": {
          "iopub.execute_input": "2023-10-27T08:43:28.270788Z",
          "iopub.status.busy": "2023-10-27T08:43:28.270452Z",
          "iopub.status.idle": "2023-10-27T08:43:28.490348Z",
          "shell.execute_reply": "2023-10-27T08:43:28.488905Z"
        },
        "papermill": {
          "duration": 0.238637,
          "end_time": "2023-10-27T08:43:28.492612",
          "exception": false,
          "start_time": "2023-10-27T08:43:28.253975",
          "status": "completed"
        },
        "tags": [],
        "id": "05e6dc26",
        "outputId": "b62a4715-85c8-488c-e577-cf31568011a2",
        "colab": {
          "base_uri": "https://localhost:8080/",
          "height": 710
        }
      },
      "outputs": [
        {
          "output_type": "stream",
          "name": "stdout",
          "text": [
            "3     17756\n",
            "2     17224\n",
            "1     14206\n",
            "4     13924\n",
            "5      9966\n",
            "6      7539\n",
            "7      5859\n",
            "8      4390\n",
            "9      3002\n",
            "10     2342\n",
            "11     1855\n",
            "12     1448\n",
            "13     1210\n",
            "14     1042\n",
            "Name: time_in_hospital, dtype: int64\n"
          ]
        },
        {
          "output_type": "display_data",
          "data": {
            "text/plain": [
              "<Figure size 640x480 with 1 Axes>"
            ],
            "image/png": "[encoded data removed]"
          },
          "metadata": {}
        }
      ],
      "source": [
        "print(df.time_in_hospital.value_counts())\n",
        "\n",
        "sns.countplot(x=\"time_in_hospital\", data = df,\n",
        "              order = df.time_in_hospital.value_counts().index)\n",
        "plt.show()"
      ]
    },
    {
      "cell_type": "code",
      "execution_count": 33,
      "id": "f876faf1",
      "metadata": {
        "execution": {
          "iopub.execute_input": "2023-10-27T08:43:28.524879Z",
          "iopub.status.busy": "2023-10-27T08:43:28.524516Z",
          "iopub.status.idle": "2023-10-27T08:43:28.569117Z",
          "shell.execute_reply": "2023-10-27T08:43:28.567850Z"
        },
        "papermill": {
          "duration": 0.063436,
          "end_time": "2023-10-27T08:43:28.571325",
          "exception": false,
          "start_time": "2023-10-27T08:43:28.507889",
          "status": "completed"
        },
        "tags": [],
        "id": "f876faf1"
      },
      "outputs": [],
      "source": [
        "df['race'] = df['race'].fillna(df['race'].mode()[0])\n",
        "\n",
        "df['admission_type_id'] = df['admission_type_id'].fillna(df['admission_type_id'].mode()[0])\n",
        "\n",
        "df['discharge_disposition_id'] = df['discharge_disposition_id'].fillna(df['discharge_disposition_id'].mode()[0])\n",
        "\n",
        "df['admission_source_id'] = df['admission_source_id'].fillna(df['admission_source_id'].mode()[0])"
      ]
    },
    {
      "cell_type": "code",
      "execution_count": 34,
      "id": "929b6333",
      "metadata": {
        "execution": {
          "iopub.execute_input": "2023-10-27T08:43:28.603743Z",
          "iopub.status.busy": "2023-10-27T08:43:28.603343Z",
          "iopub.status.idle": "2023-10-27T08:43:28.626757Z",
          "shell.execute_reply": "2023-10-27T08:43:28.625396Z"
        },
        "papermill": {
          "duration": 0.042093,
          "end_time": "2023-10-27T08:43:28.628814",
          "exception": false,
          "start_time": "2023-10-27T08:43:28.586721",
          "status": "completed"
        },
        "tags": [],
        "id": "929b6333",
        "outputId": "5e13a655-57e5-47cb-d784-2f5994aef5f8",
        "colab": {
          "base_uri": "https://localhost:8080/",
          "height": 273
        }
      },
      "outputs": [
        {
          "output_type": "execute_result",
          "data": {
            "text/plain": [
              "   encounter_id  patient_nbr             race  gender  age admission_type_id  \\\n",
              "0       2278392      8222157        Caucasian  Female    5         Emergency   \n",
              "1        149190     55629189        Caucasian  Female   15         Emergency   \n",
              "2         64410     86047875  AfricanAmerican  Female   25         Emergency   \n",
              "3        500364     82442376        Caucasian    Male   35         Emergency   \n",
              "4         16680     42519267        Caucasian    Male   45         Emergency   \n",
              "\n",
              "  discharge_disposition_id admission_source_id  time_in_hospital  \\\n",
              "0       Discharged to Home            Referral                 1   \n",
              "1       Discharged to Home           Emergency                 3   \n",
              "2       Discharged to Home           Emergency                 2   \n",
              "3       Discharged to Home           Emergency                 2   \n",
              "4       Discharged to Home           Emergency                 1   \n",
              "\n",
              "   num_lab_procedures  ...  citoglipton  insulin  glyburide-metformin  \\\n",
              "0                  41  ...           No       No                   No   \n",
              "1                  59  ...           No       Up                   No   \n",
              "2                  11  ...           No       No                   No   \n",
              "3                  44  ...           No       Up                   No   \n",
              "4                  51  ...           No   Steady                   No   \n",
              "\n",
              "   glipizide-metformin  glimepiride-pioglitazone metformin-rosiglitazone  \\\n",
              "0                   No                        No                      No   \n",
              "1                   No                        No                      No   \n",
              "2                   No                        No                      No   \n",
              "3                   No                        No                      No   \n",
              "4                   No                        No                      No   \n",
              "\n",
              "  metformin-pioglitazone change  diabetesMed readmitted  \n",
              "0                     No     No           No          0  \n",
              "1                     No     Ch          Yes          0  \n",
              "2                     No     No          Yes          0  \n",
              "3                     No     Ch          Yes          0  \n",
              "4                     No     Ch          Yes          0  \n",
              "\n",
              "[5 rows x 47 columns]"
            ],
            "text/html": [
              "\n",
              "  <div id=\"df-9821da97-24ec-4418-a2db-bf13b9289010\" class=\"colab-df-container\">\n",
              "    <div>\n",
              "<style scoped>\n",
              "    .dataframe tbody tr th:only-of-type {\n",
              "        vertical-align: middle;\n",
              "    }\n",
              "\n",
              "    .dataframe tbody tr th {\n",
              "        vertical-align: top;\n",
              "    }\n",
              "\n",
              "    .dataframe thead th {\n",
              "        text-align: right;\n",
              "    }\n",
              "</style>\n",
              "<table border=\"1\" class=\"dataframe\">\n",
              "  <thead>\n",
              "    <tr style=\"text-align: right;\">\n",
              "      <th></th>\n",
              "      <th>encounter_id</th>\n",
              "      <th>patient_nbr</th>\n",
              "      <th>race</th>\n",
              "      <th>gender</th>\n",
              "      <th>age</th>\n",
              "      <th>admission_type_id</th>\n",
              "      <th>discharge_disposition_id</th>\n",
              "      <th>admission_source_id</th>\n",
              "      <th>time_in_hospital</th>\n",
              "      <th>num_lab_procedures</th>\n",
              "      <th>...</th>\n",
              "      <th>citoglipton</th>\n",
              "      <th>insulin</th>\n",
              "      <th>glyburide-metformin</th>\n",
              "      <th>glipizide-metformin</th>\n",
              "      <th>glimepiride-pioglitazone</th>\n",
              "      <th>metformin-rosiglitazone</th>\n",
              "      <th>metformin-pioglitazone</th>\n",
              "      <th>change</th>\n",
              "      <th>diabetesMed</th>\n",
              "      <th>readmitted</th>\n",
              "    </tr>\n",
              "  </thead>\n",
              "  <tbody>\n",
              "    <tr>\n",
              "      <th>0</th>\n",
              "      <td>2278392</td>\n",
              "      <td>8222157</td>\n",
              "      <td>Caucasian</td>\n",
              "      <td>Female</td>\n",
              "      <td>5</td>\n",
              "      <td>Emergency</td>\n",
              "      <td>Discharged to Home</td>\n",
              "      <td>Referral</td>\n",
              "      <td>1</td>\n",
              "      <td>41</td>\n",
              "      <td>...</td>\n",
              "      <td>No</td>\n",
              "      <td>No</td>\n",
              "      <td>No</td>\n",
              "      <td>No</td>\n",
              "      <td>No</td>\n",
              "      <td>No</td>\n",
              "      <td>No</td>\n",
              "      <td>No</td>\n",
              "      <td>No</td>\n",
              "      <td>0</td>\n",
              "    </tr>\n",
              "    <tr>\n",
              "      <th>1</th>\n",
              "      <td>149190</td>\n",
              "      <td>55629189</td>\n",
              "      <td>Caucasian</td>\n",
              "      <td>Female</td>\n",
              "      <td>15</td>\n",
              "      <td>Emergency</td>\n",
              "      <td>Discharged to Home</td>\n",
              "      <td>Emergency</td>\n",
              "      <td>3</td>\n",
              "      <td>59</td>\n",
              "      <td>...</td>\n",
              "      <td>No</td>\n",
              "      <td>Up</td>\n",
              "      <td>No</td>\n",
              "      <td>No</td>\n",
              "      <td>No</td>\n",
              "      <td>No</td>\n",
              "      <td>No</td>\n",
              "      <td>Ch</td>\n",
              "      <td>Yes</td>\n",
              "      <td>0</td>\n",
              "    </tr>\n",
              "    <tr>\n",
              "      <th>2</th>\n",
              "      <td>64410</td>\n",
              "      <td>86047875</td>\n",
              "      <td>AfricanAmerican</td>\n",
              "      <td>Female</td>\n",
              "      <td>25</td>\n",
              "      <td>Emergency</td>\n",
              "      <td>Discharged to Home</td>\n",
              "      <td>Emergency</td>\n",
              "      <td>2</td>\n",
              "      <td>11</td>\n",
              "      <td>...</td>\n",
              "      <td>No</td>\n",
              "      <td>No</td>\n",
              "      <td>No</td>\n",
              "      <td>No</td>\n",
              "      <td>No</td>\n",
              "      <td>No</td>\n",
              "      <td>No</td>\n",
              "      <td>No</td>\n",
              "      <td>Yes</td>\n",
              "      <td>0</td>\n",
              "    </tr>\n",
              "    <tr>\n",
              "      <th>3</th>\n",
              "      <td>500364</td>\n",
              "      <td>82442376</td>\n",
              "      <td>Caucasian</td>\n",
              "      <td>Male</td>\n",
              "      <td>35</td>\n",
              "      <td>Emergency</td>\n",
              "      <td>Discharged to Home</td>\n",
              "      <td>Emergency</td>\n",
              "      <td>2</td>\n",
              "      <td>44</td>\n",
              "      <td>...</td>\n",
              "      <td>No</td>\n",
              "      <td>Up</td>\n",
              "      <td>No</td>\n",
              "      <td>No</td>\n",
              "      <td>No</td>\n",
              "      <td>No</td>\n",
              "      <td>No</td>\n",
              "      <td>Ch</td>\n",
              "      <td>Yes</td>\n",
              "      <td>0</td>\n",
              "    </tr>\n",
              "    <tr>\n",
              "      <th>4</th>\n",
              "      <td>16680</td>\n",
              "      <td>42519267</td>\n",
              "      <td>Caucasian</td>\n",
              "      <td>Male</td>\n",
              "      <td>45</td>\n",
              "      <td>Emergency</td>\n",
              "      <td>Discharged to Home</td>\n",
              "      <td>Emergency</td>\n",
              "      <td>1</td>\n",
              "      <td>51</td>\n",
              "      <td>...</td>\n",
              "      <td>No</td>\n",
              "      <td>Steady</td>\n",
              "      <td>No</td>\n",
              "      <td>No</td>\n",
              "      <td>No</td>\n",
              "      <td>No</td>\n",
              "      <td>No</td>\n",
              "      <td>Ch</td>\n",
              "      <td>Yes</td>\n",
              "      <td>0</td>\n",
              "    </tr>\n",
              "  </tbody>\n",
              "</table>\n",
              "<p>5 rows × 47 columns</p>\n",
              "</div>\n",
              "    <div class=\"colab-df-buttons\">\n",
              "\n",
              "  <div class=\"colab-df-container\">\n",
              "    <button class=\"colab-df-convert\" onclick=\"convertToInteractive('df-9821da97-24ec-4418-a2db-bf13b9289010')\"\n",
              "            title=\"Convert this dataframe to an interactive table.\"\n",
              "            style=\"display:none;\">\n",
              "\n",
              "  <svg xmlns=\"http://www.w3.org/2000/svg\" height=\"24px\" viewBox=\"0 -960 960 960\">\n",
              "    <path d=\"M120-120v-720h720v720H120Zm60-500h600v-160H180v160Zm220 220h160v-160H400v160Zm0 220h160v-160H400v160ZM180-400h160v-160H180v160Zm440 0h160v-160H620v160ZM180-180h160v-160H180v160Zm440 0h160v-160H620v160Z\"/>\n",
              "  </svg>\n",
              "    </button>\n",
              "\n",
              "  <style>\n",
              "    .colab-df-container {\n",
              "      display:flex;\n",
              "      gap: 12px;\n",
              "    }\n",
              "\n",
              "    .colab-df-convert {\n",
              "      background-color: #E8F0FE;\n",
              "      border: none;\n",
              "      border-radius: 50%;\n",
              "      cursor: pointer;\n",
              "      display: none;\n",
              "      fill: #1967D2;\n",
              "      height: 32px;\n",
              "      padding: 0 0 0 0;\n",
              "      width: 32px;\n",
              "    }\n",
              "\n",
              "    .colab-df-convert:hover {\n",
              "      background-color: #E2EBFA;\n",
              "      box-shadow: 0px 1px 2px rgba(60, 64, 67, 0.3), 0px 1px 3px 1px rgba(60, 64, 67, 0.15);\n",
              "      fill: #174EA6;\n",
              "    }\n",
              "\n",
              "    .colab-df-buttons div {\n",
              "      margin-bottom: 4px;\n",
              "    }\n",
              "\n",
              "    [theme=dark] .colab-df-convert {\n",
              "      background-color: #3B4455;\n",
              "      fill: #D2E3FC;\n",
              "    }\n",
              "\n",
              "    [theme=dark] .colab-df-convert:hover {\n",
              "      background-color: #434B5C;\n",
              "      box-shadow: 0px 1px 3px 1px rgba(0, 0, 0, 0.15);\n",
              "      filter: drop-shadow(0px 1px 2px rgba(0, 0, 0, 0.3));\n",
              "      fill: #FFFFFF;\n",
              "    }\n",
              "  </style>\n",
              "\n",
              "    <script>\n",
              "      const buttonEl =\n",
              "        document.querySelector('#df-9821da97-24ec-4418-a2db-bf13b9289010 button.colab-df-convert');\n",
              "      buttonEl.style.display =\n",
              "        google.colab.kernel.accessAllowed ? 'block' : 'none';\n",
              "\n",
              "      async function convertToInteractive(key) {\n",
              "        const element = document.querySelector('#df-9821da97-24ec-4418-a2db-bf13b9289010');\n",
              "        const dataTable =\n",
              "          await google.colab.kernel.invokeFunction('convertToInteractive',\n",
              "                                                    [key], {});\n",
              "        if (!dataTable) return;\n",
              "\n",
              "        const docLinkHtml = 'Like what you see? Visit the ' +\n",
              "          '<a target=\"_blank\" href=https://colab.research.google.com/notebooks/data_table.ipynb>data table notebook</a>'\n",
              "          + ' to learn more about interactive tables.';\n",
              "        element.innerHTML = '';\n",
              "        dataTable['output_type'] = 'display_data';\n",
              "        await google.colab.output.renderOutput(dataTable, element);\n",
              "        const docLink = document.createElement('div');\n",
              "        docLink.innerHTML = docLinkHtml;\n",
              "        element.appendChild(docLink);\n",
              "      }\n",
              "    </script>\n",
              "  </div>\n",
              "\n",
              "\n",
              "<div id=\"df-d3217c68-c694-4d92-81f2-8e3b204cf6c9\">\n",
              "  <button class=\"colab-df-quickchart\" onclick=\"quickchart('df-d3217c68-c694-4d92-81f2-8e3b204cf6c9')\"\n",
              "            title=\"Suggest charts\"\n",
              "            style=\"display:none;\">\n",
              "\n",
              "<svg xmlns=\"http://www.w3.org/2000/svg\" height=\"24px\"viewBox=\"0 0 24 24\"\n",
              "     width=\"24px\">\n",
              "    <g>\n",
              "        <path d=\"M19 3H5c-1.1 0-2 .9-2 2v14c0 1.1.9 2 2 2h14c1.1 0 2-.9 2-2V5c0-1.1-.9-2-2-2zM9 17H7v-7h2v7zm4 0h-2V7h2v10zm4 0h-2v-4h2v4z\"/>\n",
              "    </g>\n",
              "</svg>\n",
              "  </button>\n",
              "\n",
              "<style>\n",
              "  .colab-df-quickchart {\n",
              "      --bg-color: #E8F0FE;\n",
              "      --fill-color: #1967D2;\n",
              "      --hover-bg-color: #E2EBFA;\n",
              "      --hover-fill-color: #174EA6;\n",
              "      --disabled-fill-color: #AAA;\n",
              "      --disabled-bg-color: #DDD;\n",
              "  }\n",
              "\n",
              "  [theme=dark] .colab-df-quickchart {\n",
              "      --bg-color: #3B4455;\n",
              "      --fill-color: #D2E3FC;\n",
              "      --hover-bg-color: #434B5C;\n",
              "      --hover-fill-color: #FFFFFF;\n",
              "      --disabled-bg-color: #3B4455;\n",
              "      --disabled-fill-color: #666;\n",
              "  }\n",
              "\n",
              "  .colab-df-quickchart {\n",
              "    background-color: var(--bg-color);\n",
              "    border: none;\n",
              "    border-radius: 50%;\n",
              "    cursor: pointer;\n",
              "    display: none;\n",
              "    fill: var(--fill-color);\n",
              "    height: 32px;\n",
              "    padding: 0;\n",
              "    width: 32px;\n",
              "  }\n",
              "\n",
              "  .colab-df-quickchart:hover {\n",
              "    background-color: var(--hover-bg-color);\n",
              "    box-shadow: 0 1px 2px rgba(60, 64, 67, 0.3), 0 1px 3px 1px rgba(60, 64, 67, 0.15);\n",
              "    fill: var(--button-hover-fill-color);\n",
              "  }\n",
              "\n",
              "  .colab-df-quickchart-complete:disabled,\n",
              "  .colab-df-quickchart-complete:disabled:hover {\n",
              "    background-color: var(--disabled-bg-color);\n",
              "    fill: var(--disabled-fill-color);\n",
              "    box-shadow: none;\n",
              "  }\n",
              "\n",
              "  .colab-df-spinner {\n",
              "    border: 2px solid var(--fill-color);\n",
              "    border-color: transparent;\n",
              "    border-bottom-color: var(--fill-color);\n",
              "    animation:\n",
              "      spin 1s steps(1) infinite;\n",
              "  }\n",
              "\n",
              "  @keyframes spin {\n",
              "    0% {\n",
              "      border-color: transparent;\n",
              "      border-bottom-color: var(--fill-color);\n",
              "      border-left-color: var(--fill-color);\n",
              "    }\n",
              "    20% {\n",
              "      border-color: transparent;\n",
              "      border-left-color: var(--fill-color);\n",
              "      border-top-color: var(--fill-color);\n",
              "    }\n",
              "    30% {\n",
              "      border-color: transparent;\n",
              "      border-left-color: var(--fill-color);\n",
              "      border-top-color: var(--fill-color);\n",
              "      border-right-color: var(--fill-color);\n",
              "    }\n",
              "    40% {\n",
              "      border-color: transparent;\n",
              "      border-right-color: var(--fill-color);\n",
              "      border-top-color: var(--fill-color);\n",
              "    }\n",
              "    60% {\n",
              "      border-color: transparent;\n",
              "      border-right-color: var(--fill-color);\n",
              "    }\n",
              "    80% {\n",
              "      border-color: transparent;\n",
              "      border-right-color: var(--fill-color);\n",
              "      border-bottom-color: var(--fill-color);\n",
              "    }\n",
              "    90% {\n",
              "      border-color: transparent;\n",
              "      border-bottom-color: var(--fill-color);\n",
              "    }\n",
              "  }\n",
              "</style>\n",
              "\n",
              "  <script>\n",
              "    async function quickchart(key) {\n",
              "      const quickchartButtonEl =\n",
              "        document.querySelector('#' + key + ' button');\n",
              "      quickchartButtonEl.disabled = true;  // To prevent multiple clicks.\n",
              "      quickchartButtonEl.classList.add('colab-df-spinner');\n",
              "      try {\n",
              "        const charts = await google.colab.kernel.invokeFunction(\n",
              "            'suggestCharts', [key], {});\n",
              "      } catch (error) {\n",
              "        console.error('Error during call to suggestCharts:', error);\n",
              "      }\n",
              "      quickchartButtonEl.classList.remove('colab-df-spinner');\n",
              "      quickchartButtonEl.classList.add('colab-df-quickchart-complete');\n",
              "    }\n",
              "    (() => {\n",
              "      let quickchartButtonEl =\n",
              "        document.querySelector('#df-d3217c68-c694-4d92-81f2-8e3b204cf6c9 button');\n",
              "      quickchartButtonEl.style.display =\n",
              "        google.colab.kernel.accessAllowed ? 'block' : 'none';\n",
              "    })();\n",
              "  </script>\n",
              "</div>\n",
              "    </div>\n",
              "  </div>\n"
            ]
          },
          "metadata": {},
          "execution_count": 34
        }
      ],
      "source": [
        "df.head()"
      ]
    },
    {
      "cell_type": "code",
      "execution_count": 35,
      "id": "736db243",
      "metadata": {
        "execution": {
          "iopub.execute_input": "2023-10-27T08:43:28.662684Z",
          "iopub.status.busy": "2023-10-27T08:43:28.662287Z",
          "iopub.status.idle": "2023-10-27T08:43:28.782036Z",
          "shell.execute_reply": "2023-10-27T08:43:28.780796Z"
        },
        "papermill": {
          "duration": 0.139462,
          "end_time": "2023-10-27T08:43:28.783882",
          "exception": false,
          "start_time": "2023-10-27T08:43:28.644420",
          "status": "completed"
        },
        "tags": [],
        "id": "736db243",
        "outputId": "e50fe37c-537f-45a8-f2a9-b7e17efa43ef",
        "colab": {
          "base_uri": "https://localhost:8080/",
          "height": 461
        }
      },
      "outputs": [
        {
          "output_type": "execute_result",
          "data": {
            "text/plain": [
              "                   race  gender admission_type_id discharge_disposition_id  \\\n",
              "0             Caucasian  Female         Emergency       Discharged to Home   \n",
              "1             Caucasian  Female         Emergency       Discharged to Home   \n",
              "2       AfricanAmerican  Female         Emergency       Discharged to Home   \n",
              "3             Caucasian    Male         Emergency       Discharged to Home   \n",
              "4             Caucasian    Male         Emergency       Discharged to Home   \n",
              "...                 ...     ...               ...                      ...   \n",
              "101761  AfricanAmerican    Male         Emergency                    Other   \n",
              "101762  AfricanAmerican  Female         Emergency                    Other   \n",
              "101763        Caucasian    Male         Emergency       Discharged to Home   \n",
              "101764        Caucasian  Female         Emergency                    Other   \n",
              "101765        Caucasian    Male         Emergency       Discharged to Home   \n",
              "\n",
              "       admission_source_id  diag_1  diag_2 diag_3 max_glu_serum A1Cresult  \\\n",
              "0                 Referral  250.83     NaN    NaN          None      None   \n",
              "1                Emergency     276  250.01    255          None      None   \n",
              "2                Emergency     648     250    V27          None      None   \n",
              "3                Emergency       8  250.43    403          None      None   \n",
              "4                Emergency     197     157    250          None      None   \n",
              "...                    ...     ...     ...    ...           ...       ...   \n",
              "101761           Emergency  250.13     291    458          None        >8   \n",
              "101762               Other     560     276    787          None      None   \n",
              "101763           Emergency      38     590    296          None      None   \n",
              "101764           Emergency     996     285    998          None      None   \n",
              "101765           Emergency     530     530    787          None      None   \n",
              "\n",
              "        ... examide citoglipton insulin glyburide-metformin  \\\n",
              "0       ...      No          No      No                  No   \n",
              "1       ...      No          No      Up                  No   \n",
              "2       ...      No          No      No                  No   \n",
              "3       ...      No          No      Up                  No   \n",
              "4       ...      No          No  Steady                  No   \n",
              "...     ...     ...         ...     ...                 ...   \n",
              "101761  ...      No          No    Down                  No   \n",
              "101762  ...      No          No  Steady                  No   \n",
              "101763  ...      No          No    Down                  No   \n",
              "101764  ...      No          No      Up                  No   \n",
              "101765  ...      No          No      No                  No   \n",
              "\n",
              "       glipizide-metformin glimepiride-pioglitazone metformin-rosiglitazone  \\\n",
              "0                       No                       No                      No   \n",
              "1                       No                       No                      No   \n",
              "2                       No                       No                      No   \n",
              "3                       No                       No                      No   \n",
              "4                       No                       No                      No   \n",
              "...                    ...                      ...                     ...   \n",
              "101761                  No                       No                      No   \n",
              "101762                  No                       No                      No   \n",
              "101763                  No                       No                      No   \n",
              "101764                  No                       No                      No   \n",
              "101765                  No                       No                      No   \n",
              "\n",
              "       metformin-pioglitazone change diabetesMed  \n",
              "0                          No     No          No  \n",
              "1                          No     Ch         Yes  \n",
              "2                          No     No         Yes  \n",
              "3                          No     Ch         Yes  \n",
              "4                          No     Ch         Yes  \n",
              "...                       ...    ...         ...  \n",
              "101761                     No     Ch         Yes  \n",
              "101762                     No     No         Yes  \n",
              "101763                     No     Ch         Yes  \n",
              "101764                     No     Ch         Yes  \n",
              "101765                     No     No          No  \n",
              "\n",
              "[101763 rows x 35 columns]"
            ],
            "text/html": [
              "\n",
              "  <div id=\"df-64afee47-e70a-4c17-b6ea-bd61f4b8f93b\" class=\"colab-df-container\">\n",
              "    <div>\n",
              "<style scoped>\n",
              "    .dataframe tbody tr th:only-of-type {\n",
              "        vertical-align: middle;\n",
              "    }\n",
              "\n",
              "    .dataframe tbody tr th {\n",
              "        vertical-align: top;\n",
              "    }\n",
              "\n",
              "    .dataframe thead th {\n",
              "        text-align: right;\n",
              "    }\n",
              "</style>\n",
              "<table border=\"1\" class=\"dataframe\">\n",
              "  <thead>\n",
              "    <tr style=\"text-align: right;\">\n",
              "      <th></th>\n",
              "      <th>race</th>\n",
              "      <th>gender</th>\n",
              "      <th>admission_type_id</th>\n",
              "      <th>discharge_disposition_id</th>\n",
              "      <th>admission_source_id</th>\n",
              "      <th>diag_1</th>\n",
              "      <th>diag_2</th>\n",
              "      <th>diag_3</th>\n",
              "      <th>max_glu_serum</th>\n",
              "      <th>A1Cresult</th>\n",
              "      <th>...</th>\n",
              "      <th>examide</th>\n",
              "      <th>citoglipton</th>\n",
              "      <th>insulin</th>\n",
              "      <th>glyburide-metformin</th>\n",
              "      <th>glipizide-metformin</th>\n",
              "      <th>glimepiride-pioglitazone</th>\n",
              "      <th>metformin-rosiglitazone</th>\n",
              "      <th>metformin-pioglitazone</th>\n",
              "      <th>change</th>\n",
              "      <th>diabetesMed</th>\n",
              "    </tr>\n",
              "  </thead>\n",
              "  <tbody>\n",
              "    <tr>\n",
              "      <th>0</th>\n",
              "      <td>Caucasian</td>\n",
              "      <td>Female</td>\n",
              "      <td>Emergency</td>\n",
              "      <td>Discharged to Home</td>\n",
              "      <td>Referral</td>\n",
              "      <td>250.83</td>\n",
              "      <td>NaN</td>\n",
              "      <td>NaN</td>\n",
              "      <td>None</td>\n",
              "      <td>None</td>\n",
              "      <td>...</td>\n",
              "      <td>No</td>\n",
              "      <td>No</td>\n",
              "      <td>No</td>\n",
              "      <td>No</td>\n",
              "      <td>No</td>\n",
              "      <td>No</td>\n",
              "      <td>No</td>\n",
              "      <td>No</td>\n",
              "      <td>No</td>\n",
              "      <td>No</td>\n",
              "    </tr>\n",
              "    <tr>\n",
              "      <th>1</th>\n",
              "      <td>Caucasian</td>\n",
              "      <td>Female</td>\n",
              "      <td>Emergency</td>\n",
              "      <td>Discharged to Home</td>\n",
              "      <td>Emergency</td>\n",
              "      <td>276</td>\n",
              "      <td>250.01</td>\n",
              "      <td>255</td>\n",
              "      <td>None</td>\n",
              "      <td>None</td>\n",
              "      <td>...</td>\n",
              "      <td>No</td>\n",
              "      <td>No</td>\n",
              "      <td>Up</td>\n",
              "      <td>No</td>\n",
              "      <td>No</td>\n",
              "      <td>No</td>\n",
              "      <td>No</td>\n",
              "      <td>No</td>\n",
              "      <td>Ch</td>\n",
              "      <td>Yes</td>\n",
              "    </tr>\n",
              "    <tr>\n",
              "      <th>2</th>\n",
              "      <td>AfricanAmerican</td>\n",
              "      <td>Female</td>\n",
              "      <td>Emergency</td>\n",
              "      <td>Discharged to Home</td>\n",
              "      <td>Emergency</td>\n",
              "      <td>648</td>\n",
              "      <td>250</td>\n",
              "      <td>V27</td>\n",
              "      <td>None</td>\n",
              "      <td>None</td>\n",
              "      <td>...</td>\n",
              "      <td>No</td>\n",
              "      <td>No</td>\n",
              "      <td>No</td>\n",
              "      <td>No</td>\n",
              "      <td>No</td>\n",
              "      <td>No</td>\n",
              "      <td>No</td>\n",
              "      <td>No</td>\n",
              "      <td>No</td>\n",
              "      <td>Yes</td>\n",
              "    </tr>\n",
              "    <tr>\n",
              "      <th>3</th>\n",
              "      <td>Caucasian</td>\n",
              "      <td>Male</td>\n",
              "      <td>Emergency</td>\n",
              "      <td>Discharged to Home</td>\n",
              "      <td>Emergency</td>\n",
              "      <td>8</td>\n",
              "      <td>250.43</td>\n",
              "      <td>403</td>\n",
              "      <td>None</td>\n",
              "      <td>None</td>\n",
              "      <td>...</td>\n",
              "      <td>No</td>\n",
              "      <td>No</td>\n",
              "      <td>Up</td>\n",
              "      <td>No</td>\n",
              "      <td>No</td>\n",
              "      <td>No</td>\n",
              "      <td>No</td>\n",
              "      <td>No</td>\n",
              "      <td>Ch</td>\n",
              "      <td>Yes</td>\n",
              "    </tr>\n",
              "    <tr>\n",
              "      <th>4</th>\n",
              "      <td>Caucasian</td>\n",
              "      <td>Male</td>\n",
              "      <td>Emergency</td>\n",
              "      <td>Discharged to Home</td>\n",
              "      <td>Emergency</td>\n",
              "      <td>197</td>\n",
              "      <td>157</td>\n",
              "      <td>250</td>\n",
              "      <td>None</td>\n",
              "      <td>None</td>\n",
              "      <td>...</td>\n",
              "      <td>No</td>\n",
              "      <td>No</td>\n",
              "      <td>Steady</td>\n",
              "      <td>No</td>\n",
              "      <td>No</td>\n",
              "      <td>No</td>\n",
              "      <td>No</td>\n",
              "      <td>No</td>\n",
              "      <td>Ch</td>\n",
              "      <td>Yes</td>\n",
              "    </tr>\n",
              "    <tr>\n",
              "      <th>...</th>\n",
              "      <td>...</td>\n",
              "      <td>...</td>\n",
              "      <td>...</td>\n",
              "      <td>...</td>\n",
              "      <td>...</td>\n",
              "      <td>...</td>\n",
              "      <td>...</td>\n",
              "      <td>...</td>\n",
              "      <td>...</td>\n",
              "      <td>...</td>\n",
              "      <td>...</td>\n",
              "      <td>...</td>\n",
              "      <td>...</td>\n",
              "      <td>...</td>\n",
              "      <td>...</td>\n",
              "      <td>...</td>\n",
              "      <td>...</td>\n",
              "      <td>...</td>\n",
              "      <td>...</td>\n",
              "      <td>...</td>\n",
              "      <td>...</td>\n",
              "    </tr>\n",
              "    <tr>\n",
              "      <th>101761</th>\n",
              "      <td>AfricanAmerican</td>\n",
              "      <td>Male</td>\n",
              "      <td>Emergency</td>\n",
              "      <td>Other</td>\n",
              "      <td>Emergency</td>\n",
              "      <td>250.13</td>\n",
              "      <td>291</td>\n",
              "      <td>458</td>\n",
              "      <td>None</td>\n",
              "      <td>&gt;8</td>\n",
              "      <td>...</td>\n",
              "      <td>No</td>\n",
              "      <td>No</td>\n",
              "      <td>Down</td>\n",
              "      <td>No</td>\n",
              "      <td>No</td>\n",
              "      <td>No</td>\n",
              "      <td>No</td>\n",
              "      <td>No</td>\n",
              "      <td>Ch</td>\n",
              "      <td>Yes</td>\n",
              "    </tr>\n",
              "    <tr>\n",
              "      <th>101762</th>\n",
              "      <td>AfricanAmerican</td>\n",
              "      <td>Female</td>\n",
              "      <td>Emergency</td>\n",
              "      <td>Other</td>\n",
              "      <td>Other</td>\n",
              "      <td>560</td>\n",
              "      <td>276</td>\n",
              "      <td>787</td>\n",
              "      <td>None</td>\n",
              "      <td>None</td>\n",
              "      <td>...</td>\n",
              "      <td>No</td>\n",
              "      <td>No</td>\n",
              "      <td>Steady</td>\n",
              "      <td>No</td>\n",
              "      <td>No</td>\n",
              "      <td>No</td>\n",
              "      <td>No</td>\n",
              "      <td>No</td>\n",
              "      <td>No</td>\n",
              "      <td>Yes</td>\n",
              "    </tr>\n",
              "    <tr>\n",
              "      <th>101763</th>\n",
              "      <td>Caucasian</td>\n",
              "      <td>Male</td>\n",
              "      <td>Emergency</td>\n",
              "      <td>Discharged to Home</td>\n",
              "      <td>Emergency</td>\n",
              "      <td>38</td>\n",
              "      <td>590</td>\n",
              "      <td>296</td>\n",
              "      <td>None</td>\n",
              "      <td>None</td>\n",
              "      <td>...</td>\n",
              "      <td>No</td>\n",
              "      <td>No</td>\n",
              "      <td>Down</td>\n",
              "      <td>No</td>\n",
              "      <td>No</td>\n",
              "      <td>No</td>\n",
              "      <td>No</td>\n",
              "      <td>No</td>\n",
              "      <td>Ch</td>\n",
              "      <td>Yes</td>\n",
              "    </tr>\n",
              "    <tr>\n",
              "      <th>101764</th>\n",
              "      <td>Caucasian</td>\n",
              "      <td>Female</td>\n",
              "      <td>Emergency</td>\n",
              "      <td>Other</td>\n",
              "      <td>Emergency</td>\n",
              "      <td>996</td>\n",
              "      <td>285</td>\n",
              "      <td>998</td>\n",
              "      <td>None</td>\n",
              "      <td>None</td>\n",
              "      <td>...</td>\n",
              "      <td>No</td>\n",
              "      <td>No</td>\n",
              "      <td>Up</td>\n",
              "      <td>No</td>\n",
              "      <td>No</td>\n",
              "      <td>No</td>\n",
              "      <td>No</td>\n",
              "      <td>No</td>\n",
              "      <td>Ch</td>\n",
              "      <td>Yes</td>\n",
              "    </tr>\n",
              "    <tr>\n",
              "      <th>101765</th>\n",
              "      <td>Caucasian</td>\n",
              "      <td>Male</td>\n",
              "      <td>Emergency</td>\n",
              "      <td>Discharged to Home</td>\n",
              "      <td>Emergency</td>\n",
              "      <td>530</td>\n",
              "      <td>530</td>\n",
              "      <td>787</td>\n",
              "      <td>None</td>\n",
              "      <td>None</td>\n",
              "      <td>...</td>\n",
              "      <td>No</td>\n",
              "      <td>No</td>\n",
              "      <td>No</td>\n",
              "      <td>No</td>\n",
              "      <td>No</td>\n",
              "      <td>No</td>\n",
              "      <td>No</td>\n",
              "      <td>No</td>\n",
              "      <td>No</td>\n",
              "      <td>No</td>\n",
              "    </tr>\n",
              "  </tbody>\n",
              "</table>\n",
              "<p>101763 rows × 35 columns</p>\n",
              "</div>\n",
              "    <div class=\"colab-df-buttons\">\n",
              "\n",
              "  <div class=\"colab-df-container\">\n",
              "    <button class=\"colab-df-convert\" onclick=\"convertToInteractive('df-64afee47-e70a-4c17-b6ea-bd61f4b8f93b')\"\n",
              "            title=\"Convert this dataframe to an interactive table.\"\n",
              "            style=\"display:none;\">\n",
              "\n",
              "  <svg xmlns=\"http://www.w3.org/2000/svg\" height=\"24px\" viewBox=\"0 -960 960 960\">\n",
              "    <path d=\"M120-120v-720h720v720H120Zm60-500h600v-160H180v160Zm220 220h160v-160H400v160Zm0 220h160v-160H400v160ZM180-400h160v-160H180v160Zm440 0h160v-160H620v160ZM180-180h160v-160H180v160Zm440 0h160v-160H620v160Z\"/>\n",
              "  </svg>\n",
              "    </button>\n",
              "\n",
              "  <style>\n",
              "    .colab-df-container {\n",
              "      display:flex;\n",
              "      gap: 12px;\n",
              "    }\n",
              "\n",
              "    .colab-df-convert {\n",
              "      background-color: #E8F0FE;\n",
              "      border: none;\n",
              "      border-radius: 50%;\n",
              "      cursor: pointer;\n",
              "      display: none;\n",
              "      fill: #1967D2;\n",
              "      height: 32px;\n",
              "      padding: 0 0 0 0;\n",
              "      width: 32px;\n",
              "    }\n",
              "\n",
              "    .colab-df-convert:hover {\n",
              "      background-color: #E2EBFA;\n",
              "      box-shadow: 0px 1px 2px rgba(60, 64, 67, 0.3), 0px 1px 3px 1px rgba(60, 64, 67, 0.15);\n",
              "      fill: #174EA6;\n",
              "    }\n",
              "\n",
              "    .colab-df-buttons div {\n",
              "      margin-bottom: 4px;\n",
              "    }\n",
              "\n",
              "    [theme=dark] .colab-df-convert {\n",
              "      background-color: #3B4455;\n",
              "      fill: #D2E3FC;\n",
              "    }\n",
              "\n",
              "    [theme=dark] .colab-df-convert:hover {\n",
              "      background-color: #434B5C;\n",
              "      box-shadow: 0px 1px 3px 1px rgba(0, 0, 0, 0.15);\n",
              "      filter: drop-shadow(0px 1px 2px rgba(0, 0, 0, 0.3));\n",
              "      fill: #FFFFFF;\n",
              "    }\n",
              "  </style>\n",
              "\n",
              "    <script>\n",
              "      const buttonEl =\n",
              "        document.querySelector('#df-64afee47-e70a-4c17-b6ea-bd61f4b8f93b button.colab-df-convert');\n",
              "      buttonEl.style.display =\n",
              "        google.colab.kernel.accessAllowed ? 'block' : 'none';\n",
              "\n",
              "      async function convertToInteractive(key) {\n",
              "        const element = document.querySelector('#df-64afee47-e70a-4c17-b6ea-bd61f4b8f93b');\n",
              "        const dataTable =\n",
              "          await google.colab.kernel.invokeFunction('convertToInteractive',\n",
              "                                                    [key], {});\n",
              "        if (!dataTable) return;\n",
              "\n",
              "        const docLinkHtml = 'Like what you see? Visit the ' +\n",
              "          '<a target=\"_blank\" href=https://colab.research.google.com/notebooks/data_table.ipynb>data table notebook</a>'\n",
              "          + ' to learn more about interactive tables.';\n",
              "        element.innerHTML = '';\n",
              "        dataTable['output_type'] = 'display_data';\n",
              "        await google.colab.output.renderOutput(dataTable, element);\n",
              "        const docLink = document.createElement('div');\n",
              "        docLink.innerHTML = docLinkHtml;\n",
              "        element.appendChild(docLink);\n",
              "      }\n",
              "    </script>\n",
              "  </div>\n",
              "\n",
              "\n",
              "<div id=\"df-af8d9702-71b2-47da-b087-1b9e2db2d14a\">\n",
              "  <button class=\"colab-df-quickchart\" onclick=\"quickchart('df-af8d9702-71b2-47da-b087-1b9e2db2d14a')\"\n",
              "            title=\"Suggest charts\"\n",
              "            style=\"display:none;\">\n",
              "\n",
              "<svg xmlns=\"http://www.w3.org/2000/svg\" height=\"24px\"viewBox=\"0 0 24 24\"\n",
              "     width=\"24px\">\n",
              "    <g>\n",
              "        <path d=\"M19 3H5c-1.1 0-2 .9-2 2v14c0 1.1.9 2 2 2h14c1.1 0 2-.9 2-2V5c0-1.1-.9-2-2-2zM9 17H7v-7h2v7zm4 0h-2V7h2v10zm4 0h-2v-4h2v4z\"/>\n",
              "    </g>\n",
              "</svg>\n",
              "  </button>\n",
              "\n",
              "<style>\n",
              "  .colab-df-quickchart {\n",
              "      --bg-color: #E8F0FE;\n",
              "      --fill-color: #1967D2;\n",
              "      --hover-bg-color: #E2EBFA;\n",
              "      --hover-fill-color: #174EA6;\n",
              "      --disabled-fill-color: #AAA;\n",
              "      --disabled-bg-color: #DDD;\n",
              "  }\n",
              "\n",
              "  [theme=dark] .colab-df-quickchart {\n",
              "      --bg-color: #3B4455;\n",
              "      --fill-color: #D2E3FC;\n",
              "      --hover-bg-color: #434B5C;\n",
              "      --hover-fill-color: #FFFFFF;\n",
              "      --disabled-bg-color: #3B4455;\n",
              "      --disabled-fill-color: #666;\n",
              "  }\n",
              "\n",
              "  .colab-df-quickchart {\n",
              "    background-color: var(--bg-color);\n",
              "    border: none;\n",
              "    border-radius: 50%;\n",
              "    cursor: pointer;\n",
              "    display: none;\n",
              "    fill: var(--fill-color);\n",
              "    height: 32px;\n",
              "    padding: 0;\n",
              "    width: 32px;\n",
              "  }\n",
              "\n",
              "  .colab-df-quickchart:hover {\n",
              "    background-color: var(--hover-bg-color);\n",
              "    box-shadow: 0 1px 2px rgba(60, 64, 67, 0.3), 0 1px 3px 1px rgba(60, 64, 67, 0.15);\n",
              "    fill: var(--button-hover-fill-color);\n",
              "  }\n",
              "\n",
              "  .colab-df-quickchart-complete:disabled,\n",
              "  .colab-df-quickchart-complete:disabled:hover {\n",
              "    background-color: var(--disabled-bg-color);\n",
              "    fill: var(--disabled-fill-color);\n",
              "    box-shadow: none;\n",
              "  }\n",
              "\n",
              "  .colab-df-spinner {\n",
              "    border: 2px solid var(--fill-color);\n",
              "    border-color: transparent;\n",
              "    border-bottom-color: var(--fill-color);\n",
              "    animation:\n",
              "      spin 1s steps(1) infinite;\n",
              "  }\n",
              "\n",
              "  @keyframes spin {\n",
              "    0% {\n",
              "      border-color: transparent;\n",
              "      border-bottom-color: var(--fill-color);\n",
              "      border-left-color: var(--fill-color);\n",
              "    }\n",
              "    20% {\n",
              "      border-color: transparent;\n",
              "      border-left-color: var(--fill-color);\n",
              "      border-top-color: var(--fill-color);\n",
              "    }\n",
              "    30% {\n",
              "      border-color: transparent;\n",
              "      border-left-color: var(--fill-color);\n",
              "      border-top-color: var(--fill-color);\n",
              "      border-right-color: var(--fill-color);\n",
              "    }\n",
              "    40% {\n",
              "      border-color: transparent;\n",
              "      border-right-color: var(--fill-color);\n",
              "      border-top-color: var(--fill-color);\n",
              "    }\n",
              "    60% {\n",
              "      border-color: transparent;\n",
              "      border-right-color: var(--fill-color);\n",
              "    }\n",
              "    80% {\n",
              "      border-color: transparent;\n",
              "      border-right-color: var(--fill-color);\n",
              "      border-bottom-color: var(--fill-color);\n",
              "    }\n",
              "    90% {\n",
              "      border-color: transparent;\n",
              "      border-bottom-color: var(--fill-color);\n",
              "    }\n",
              "  }\n",
              "</style>\n",
              "\n",
              "  <script>\n",
              "    async function quickchart(key) {\n",
              "      const quickchartButtonEl =\n",
              "        document.querySelector('#' + key + ' button');\n",
              "      quickchartButtonEl.disabled = true;  // To prevent multiple clicks.\n",
              "      quickchartButtonEl.classList.add('colab-df-spinner');\n",
              "      try {\n",
              "        const charts = await google.colab.kernel.invokeFunction(\n",
              "            'suggestCharts', [key], {});\n",
              "      } catch (error) {\n",
              "        console.error('Error during call to suggestCharts:', error);\n",
              "      }\n",
              "      quickchartButtonEl.classList.remove('colab-df-spinner');\n",
              "      quickchartButtonEl.classList.add('colab-df-quickchart-complete');\n",
              "    }\n",
              "    (() => {\n",
              "      let quickchartButtonEl =\n",
              "        document.querySelector('#df-af8d9702-71b2-47da-b087-1b9e2db2d14a button');\n",
              "      quickchartButtonEl.style.display =\n",
              "        google.colab.kernel.accessAllowed ? 'block' : 'none';\n",
              "    })();\n",
              "  </script>\n",
              "</div>\n",
              "    </div>\n",
              "  </div>\n"
            ]
          },
          "metadata": {},
          "execution_count": 35
        }
      ],
      "source": [
        "cat_data = df.select_dtypes('O')\n",
        "num_data = df.select_dtypes(np.number)\n",
        "\n",
        "cat_data"
      ]
    },
    {
      "cell_type": "markdown",
      "source": [
        "#Model Creation and Evaluation"
      ],
      "metadata": {
        "id": "SgZXwRVta8WN"
      },
      "id": "SgZXwRVta8WN"
    },
    {
      "cell_type": "code",
      "execution_count": 36,
      "id": "e761d092",
      "metadata": {
        "execution": {
          "iopub.execute_input": "2023-10-27T08:43:28.817349Z",
          "iopub.status.busy": "2023-10-27T08:43:28.817001Z",
          "iopub.status.idle": "2023-10-27T08:43:29.506957Z",
          "shell.execute_reply": "2023-10-27T08:43:29.505918Z"
        },
        "papermill": {
          "duration": 0.709813,
          "end_time": "2023-10-27T08:43:29.509316",
          "exception": false,
          "start_time": "2023-10-27T08:43:28.799503",
          "status": "completed"
        },
        "tags": [],
        "id": "e761d092"
      },
      "outputs": [],
      "source": [
        "from sklearn.preprocessing import LabelEncoder\n",
        "\n",
        "# Create an instance of the LabelEncoder\n",
        "LE = LabelEncoder()\n",
        "\n",
        "# Iterate through each column of categorical data in the DataFrame\n",
        "for i in cat_data:\n",
        "    # Use the LabelEncoder to transform the values in the column to numerical labels\n",
        "    cat_data[i] = LE.fit_transform(cat_data[i])\n"
      ]
    },
    {
      "cell_type": "code",
      "execution_count": 37,
      "id": "97421ec4",
      "metadata": {
        "execution": {
          "iopub.execute_input": "2023-10-27T08:43:29.543447Z",
          "iopub.status.busy": "2023-10-27T08:43:29.543074Z",
          "iopub.status.idle": "2023-10-27T08:43:29.557232Z",
          "shell.execute_reply": "2023-10-27T08:43:29.555715Z"
        },
        "papermill": {
          "duration": 0.033978,
          "end_time": "2023-10-27T08:43:29.559507",
          "exception": false,
          "start_time": "2023-10-27T08:43:29.525529",
          "status": "completed"
        },
        "tags": [],
        "id": "97421ec4",
        "outputId": "53ebe918-eb85-4a64-c5f1-12c6b5b45c90",
        "colab": {
          "base_uri": "https://localhost:8080/"
        }
      },
      "outputs": [
        {
          "output_type": "execute_result",
          "data": {
            "text/plain": [
              "array([1, 2, 3, 0])"
            ]
          },
          "metadata": {},
          "execution_count": 37
        }
      ],
      "source": [
        "data = pd.concat([num_data,cat_data],axis=1)\n",
        "data.head()\n",
        "data['glipizide'].unique()"
      ]
    },
    {
      "cell_type": "code",
      "execution_count": 38,
      "id": "58c799d0",
      "metadata": {
        "execution": {
          "iopub.execute_input": "2023-10-27T08:43:29.594512Z",
          "iopub.status.busy": "2023-10-27T08:43:29.594182Z",
          "iopub.status.idle": "2023-10-27T08:43:29.627229Z",
          "shell.execute_reply": "2023-10-27T08:43:29.626172Z"
        },
        "papermill": {
          "duration": 0.054254,
          "end_time": "2023-10-27T08:43:29.630022",
          "exception": false,
          "start_time": "2023-10-27T08:43:29.575768",
          "status": "completed"
        },
        "tags": [],
        "id": "58c799d0",
        "outputId": "b433933b-82f3-400d-8033-25994cf73806",
        "colab": {
          "base_uri": "https://localhost:8080/",
          "height": 273
        }
      },
      "outputs": [
        {
          "output_type": "execute_result",
          "data": {
            "text/plain": [
              "   age  time_in_hospital  num_lab_procedures  num_procedures  num_medications  \\\n",
              "0    5                 1                  41               0                1   \n",
              "1   15                 3                  59               0               18   \n",
              "2   25                 2                  11               5               13   \n",
              "3   35                 2                  44               1               16   \n",
              "4   45                 1                  51               0                8   \n",
              "\n",
              "   number_outpatient  number_emergency  number_inpatient  number_diagnoses  \\\n",
              "0                  0                 0                 0                 1   \n",
              "1                  0                 0                 0                 9   \n",
              "2                  2                 0                 1                 6   \n",
              "3                  0                 0                 0                 7   \n",
              "4                  0                 0                 0                 5   \n",
              "\n",
              "   readmitted  ...  examide  citoglipton  insulin  glyburide-metformin  \\\n",
              "0           0  ...        0            0        1                    1   \n",
              "1           0  ...        0            0        3                    1   \n",
              "2           0  ...        0            0        1                    1   \n",
              "3           0  ...        0            0        3                    1   \n",
              "4           0  ...        0            0        2                    1   \n",
              "\n",
              "   glipizide-metformin  glimepiride-pioglitazone  metformin-rosiglitazone  \\\n",
              "0                    0                         0                        0   \n",
              "1                    0                         0                        0   \n",
              "2                    0                         0                        0   \n",
              "3                    0                         0                        0   \n",
              "4                    0                         0                        0   \n",
              "\n",
              "   metformin-pioglitazone  change  diabetesMed  \n",
              "0                       0       1            0  \n",
              "1                       0       0            1  \n",
              "2                       0       1            1  \n",
              "3                       0       0            1  \n",
              "4                       0       0            1  \n",
              "\n",
              "[5 rows x 45 columns]"
            ],
            "text/html": [
              "\n",
              "  <div id=\"df-89ced6ee-7aaf-4696-aea3-801bbf36eacd\" class=\"colab-df-container\">\n",
              "    <div>\n",
              "<style scoped>\n",
              "    .dataframe tbody tr th:only-of-type {\n",
              "        vertical-align: middle;\n",
              "    }\n",
              "\n",
              "    .dataframe tbody tr th {\n",
              "        vertical-align: top;\n",
              "    }\n",
              "\n",
              "    .dataframe thead th {\n",
              "        text-align: right;\n",
              "    }\n",
              "</style>\n",
              "<table border=\"1\" class=\"dataframe\">\n",
              "  <thead>\n",
              "    <tr style=\"text-align: right;\">\n",
              "      <th></th>\n",
              "      <th>age</th>\n",
              "      <th>time_in_hospital</th>\n",
              "      <th>num_lab_procedures</th>\n",
              "      <th>num_procedures</th>\n",
              "      <th>num_medications</th>\n",
              "      <th>number_outpatient</th>\n",
              "      <th>number_emergency</th>\n",
              "      <th>number_inpatient</th>\n",
              "      <th>number_diagnoses</th>\n",
              "      <th>readmitted</th>\n",
              "      <th>...</th>\n",
              "      <th>examide</th>\n",
              "      <th>citoglipton</th>\n",
              "      <th>insulin</th>\n",
              "      <th>glyburide-metformin</th>\n",
              "      <th>glipizide-metformin</th>\n",
              "      <th>glimepiride-pioglitazone</th>\n",
              "      <th>metformin-rosiglitazone</th>\n",
              "      <th>metformin-pioglitazone</th>\n",
              "      <th>change</th>\n",
              "      <th>diabetesMed</th>\n",
              "    </tr>\n",
              "  </thead>\n",
              "  <tbody>\n",
              "    <tr>\n",
              "      <th>0</th>\n",
              "      <td>5</td>\n",
              "      <td>1</td>\n",
              "      <td>41</td>\n",
              "      <td>0</td>\n",
              "      <td>1</td>\n",
              "      <td>0</td>\n",
              "      <td>0</td>\n",
              "      <td>0</td>\n",
              "      <td>1</td>\n",
              "      <td>0</td>\n",
              "      <td>...</td>\n",
              "      <td>0</td>\n",
              "      <td>0</td>\n",
              "      <td>1</td>\n",
              "      <td>1</td>\n",
              "      <td>0</td>\n",
              "      <td>0</td>\n",
              "      <td>0</td>\n",
              "      <td>0</td>\n",
              "      <td>1</td>\n",
              "      <td>0</td>\n",
              "    </tr>\n",
              "    <tr>\n",
              "      <th>1</th>\n",
              "      <td>15</td>\n",
              "      <td>3</td>\n",
              "      <td>59</td>\n",
              "      <td>0</td>\n",
              "      <td>18</td>\n",
              "      <td>0</td>\n",
              "      <td>0</td>\n",
              "      <td>0</td>\n",
              "      <td>9</td>\n",
              "      <td>0</td>\n",
              "      <td>...</td>\n",
              "      <td>0</td>\n",
              "      <td>0</td>\n",
              "      <td>3</td>\n",
              "      <td>1</td>\n",
              "      <td>0</td>\n",
              "      <td>0</td>\n",
              "      <td>0</td>\n",
              "      <td>0</td>\n",
              "      <td>0</td>\n",
              "      <td>1</td>\n",
              "    </tr>\n",
              "    <tr>\n",
              "      <th>2</th>\n",
              "      <td>25</td>\n",
              "      <td>2</td>\n",
              "      <td>11</td>\n",
              "      <td>5</td>\n",
              "      <td>13</td>\n",
              "      <td>2</td>\n",
              "      <td>0</td>\n",
              "      <td>1</td>\n",
              "      <td>6</td>\n",
              "      <td>0</td>\n",
              "      <td>...</td>\n",
              "      <td>0</td>\n",
              "      <td>0</td>\n",
              "      <td>1</td>\n",
              "      <td>1</td>\n",
              "      <td>0</td>\n",
              "      <td>0</td>\n",
              "      <td>0</td>\n",
              "      <td>0</td>\n",
              "      <td>1</td>\n",
              "      <td>1</td>\n",
              "    </tr>\n",
              "    <tr>\n",
              "      <th>3</th>\n",
              "      <td>35</td>\n",
              "      <td>2</td>\n",
              "      <td>44</td>\n",
              "      <td>1</td>\n",
              "      <td>16</td>\n",
              "      <td>0</td>\n",
              "      <td>0</td>\n",
              "      <td>0</td>\n",
              "      <td>7</td>\n",
              "      <td>0</td>\n",
              "      <td>...</td>\n",
              "      <td>0</td>\n",
              "      <td>0</td>\n",
              "      <td>3</td>\n",
              "      <td>1</td>\n",
              "      <td>0</td>\n",
              "      <td>0</td>\n",
              "      <td>0</td>\n",
              "      <td>0</td>\n",
              "      <td>0</td>\n",
              "      <td>1</td>\n",
              "    </tr>\n",
              "    <tr>\n",
              "      <th>4</th>\n",
              "      <td>45</td>\n",
              "      <td>1</td>\n",
              "      <td>51</td>\n",
              "      <td>0</td>\n",
              "      <td>8</td>\n",
              "      <td>0</td>\n",
              "      <td>0</td>\n",
              "      <td>0</td>\n",
              "      <td>5</td>\n",
              "      <td>0</td>\n",
              "      <td>...</td>\n",
              "      <td>0</td>\n",
              "      <td>0</td>\n",
              "      <td>2</td>\n",
              "      <td>1</td>\n",
              "      <td>0</td>\n",
              "      <td>0</td>\n",
              "      <td>0</td>\n",
              "      <td>0</td>\n",
              "      <td>0</td>\n",
              "      <td>1</td>\n",
              "    </tr>\n",
              "  </tbody>\n",
              "</table>\n",
              "<p>5 rows × 45 columns</p>\n",
              "</div>\n",
              "    <div class=\"colab-df-buttons\">\n",
              "\n",
              "  <div class=\"colab-df-container\">\n",
              "    <button class=\"colab-df-convert\" onclick=\"convertToInteractive('df-89ced6ee-7aaf-4696-aea3-801bbf36eacd')\"\n",
              "            title=\"Convert this dataframe to an interactive table.\"\n",
              "            style=\"display:none;\">\n",
              "\n",
              "  <svg xmlns=\"http://www.w3.org/2000/svg\" height=\"24px\" viewBox=\"0 -960 960 960\">\n",
              "    <path d=\"M120-120v-720h720v720H120Zm60-500h600v-160H180v160Zm220 220h160v-160H400v160Zm0 220h160v-160H400v160ZM180-400h160v-160H180v160Zm440 0h160v-160H620v160ZM180-180h160v-160H180v160Zm440 0h160v-160H620v160Z\"/>\n",
              "  </svg>\n",
              "    </button>\n",
              "\n",
              "  <style>\n",
              "    .colab-df-container {\n",
              "      display:flex;\n",
              "      gap: 12px;\n",
              "    }\n",
              "\n",
              "    .colab-df-convert {\n",
              "      background-color: #E8F0FE;\n",
              "      border: none;\n",
              "      border-radius: 50%;\n",
              "      cursor: pointer;\n",
              "      display: none;\n",
              "      fill: #1967D2;\n",
              "      height: 32px;\n",
              "      padding: 0 0 0 0;\n",
              "      width: 32px;\n",
              "    }\n",
              "\n",
              "    .colab-df-convert:hover {\n",
              "      background-color: #E2EBFA;\n",
              "      box-shadow: 0px 1px 2px rgba(60, 64, 67, 0.3), 0px 1px 3px 1px rgba(60, 64, 67, 0.15);\n",
              "      fill: #174EA6;\n",
              "    }\n",
              "\n",
              "    .colab-df-buttons div {\n",
              "      margin-bottom: 4px;\n",
              "    }\n",
              "\n",
              "    [theme=dark] .colab-df-convert {\n",
              "      background-color: #3B4455;\n",
              "      fill: #D2E3FC;\n",
              "    }\n",
              "\n",
              "    [theme=dark] .colab-df-convert:hover {\n",
              "      background-color: #434B5C;\n",
              "      box-shadow: 0px 1px 3px 1px rgba(0, 0, 0, 0.15);\n",
              "      filter: drop-shadow(0px 1px 2px rgba(0, 0, 0, 0.3));\n",
              "      fill: #FFFFFF;\n",
              "    }\n",
              "  </style>\n",
              "\n",
              "    <script>\n",
              "      const buttonEl =\n",
              "        document.querySelector('#df-89ced6ee-7aaf-4696-aea3-801bbf36eacd button.colab-df-convert');\n",
              "      buttonEl.style.display =\n",
              "        google.colab.kernel.accessAllowed ? 'block' : 'none';\n",
              "\n",
              "      async function convertToInteractive(key) {\n",
              "        const element = document.querySelector('#df-89ced6ee-7aaf-4696-aea3-801bbf36eacd');\n",
              "        const dataTable =\n",
              "          await google.colab.kernel.invokeFunction('convertToInteractive',\n",
              "                                                    [key], {});\n",
              "        if (!dataTable) return;\n",
              "\n",
              "        const docLinkHtml = 'Like what you see? Visit the ' +\n",
              "          '<a target=\"_blank\" href=https://colab.research.google.com/notebooks/data_table.ipynb>data table notebook</a>'\n",
              "          + ' to learn more about interactive tables.';\n",
              "        element.innerHTML = '';\n",
              "        dataTable['output_type'] = 'display_data';\n",
              "        await google.colab.output.renderOutput(dataTable, element);\n",
              "        const docLink = document.createElement('div');\n",
              "        docLink.innerHTML = docLinkHtml;\n",
              "        element.appendChild(docLink);\n",
              "      }\n",
              "    </script>\n",
              "  </div>\n",
              "\n",
              "\n",
              "<div id=\"df-bb2e5d8d-dfd4-4f1b-a54b-7bcd7e5c45ef\">\n",
              "  <button class=\"colab-df-quickchart\" onclick=\"quickchart('df-bb2e5d8d-dfd4-4f1b-a54b-7bcd7e5c45ef')\"\n",
              "            title=\"Suggest charts\"\n",
              "            style=\"display:none;\">\n",
              "\n",
              "<svg xmlns=\"http://www.w3.org/2000/svg\" height=\"24px\"viewBox=\"0 0 24 24\"\n",
              "     width=\"24px\">\n",
              "    <g>\n",
              "        <path d=\"M19 3H5c-1.1 0-2 .9-2 2v14c0 1.1.9 2 2 2h14c1.1 0 2-.9 2-2V5c0-1.1-.9-2-2-2zM9 17H7v-7h2v7zm4 0h-2V7h2v10zm4 0h-2v-4h2v4z\"/>\n",
              "    </g>\n",
              "</svg>\n",
              "  </button>\n",
              "\n",
              "<style>\n",
              "  .colab-df-quickchart {\n",
              "      --bg-color: #E8F0FE;\n",
              "      --fill-color: #1967D2;\n",
              "      --hover-bg-color: #E2EBFA;\n",
              "      --hover-fill-color: #174EA6;\n",
              "      --disabled-fill-color: #AAA;\n",
              "      --disabled-bg-color: #DDD;\n",
              "  }\n",
              "\n",
              "  [theme=dark] .colab-df-quickchart {\n",
              "      --bg-color: #3B4455;\n",
              "      --fill-color: #D2E3FC;\n",
              "      --hover-bg-color: #434B5C;\n",
              "      --hover-fill-color: #FFFFFF;\n",
              "      --disabled-bg-color: #3B4455;\n",
              "      --disabled-fill-color: #666;\n",
              "  }\n",
              "\n",
              "  .colab-df-quickchart {\n",
              "    background-color: var(--bg-color);\n",
              "    border: none;\n",
              "    border-radius: 50%;\n",
              "    cursor: pointer;\n",
              "    display: none;\n",
              "    fill: var(--fill-color);\n",
              "    height: 32px;\n",
              "    padding: 0;\n",
              "    width: 32px;\n",
              "  }\n",
              "\n",
              "  .colab-df-quickchart:hover {\n",
              "    background-color: var(--hover-bg-color);\n",
              "    box-shadow: 0 1px 2px rgba(60, 64, 67, 0.3), 0 1px 3px 1px rgba(60, 64, 67, 0.15);\n",
              "    fill: var(--button-hover-fill-color);\n",
              "  }\n",
              "\n",
              "  .colab-df-quickchart-complete:disabled,\n",
              "  .colab-df-quickchart-complete:disabled:hover {\n",
              "    background-color: var(--disabled-bg-color);\n",
              "    fill: var(--disabled-fill-color);\n",
              "    box-shadow: none;\n",
              "  }\n",
              "\n",
              "  .colab-df-spinner {\n",
              "    border: 2px solid var(--fill-color);\n",
              "    border-color: transparent;\n",
              "    border-bottom-color: var(--fill-color);\n",
              "    animation:\n",
              "      spin 1s steps(1) infinite;\n",
              "  }\n",
              "\n",
              "  @keyframes spin {\n",
              "    0% {\n",
              "      border-color: transparent;\n",
              "      border-bottom-color: var(--fill-color);\n",
              "      border-left-color: var(--fill-color);\n",
              "    }\n",
              "    20% {\n",
              "      border-color: transparent;\n",
              "      border-left-color: var(--fill-color);\n",
              "      border-top-color: var(--fill-color);\n",
              "    }\n",
              "    30% {\n",
              "      border-color: transparent;\n",
              "      border-left-color: var(--fill-color);\n",
              "      border-top-color: var(--fill-color);\n",
              "      border-right-color: var(--fill-color);\n",
              "    }\n",
              "    40% {\n",
              "      border-color: transparent;\n",
              "      border-right-color: var(--fill-color);\n",
              "      border-top-color: var(--fill-color);\n",
              "    }\n",
              "    60% {\n",
              "      border-color: transparent;\n",
              "      border-right-color: var(--fill-color);\n",
              "    }\n",
              "    80% {\n",
              "      border-color: transparent;\n",
              "      border-right-color: var(--fill-color);\n",
              "      border-bottom-color: var(--fill-color);\n",
              "    }\n",
              "    90% {\n",
              "      border-color: transparent;\n",
              "      border-bottom-color: var(--fill-color);\n",
              "    }\n",
              "  }\n",
              "</style>\n",
              "\n",
              "  <script>\n",
              "    async function quickchart(key) {\n",
              "      const quickchartButtonEl =\n",
              "        document.querySelector('#' + key + ' button');\n",
              "      quickchartButtonEl.disabled = true;  // To prevent multiple clicks.\n",
              "      quickchartButtonEl.classList.add('colab-df-spinner');\n",
              "      try {\n",
              "        const charts = await google.colab.kernel.invokeFunction(\n",
              "            'suggestCharts', [key], {});\n",
              "      } catch (error) {\n",
              "        console.error('Error during call to suggestCharts:', error);\n",
              "      }\n",
              "      quickchartButtonEl.classList.remove('colab-df-spinner');\n",
              "      quickchartButtonEl.classList.add('colab-df-quickchart-complete');\n",
              "    }\n",
              "    (() => {\n",
              "      let quickchartButtonEl =\n",
              "        document.querySelector('#df-bb2e5d8d-dfd4-4f1b-a54b-7bcd7e5c45ef button');\n",
              "      quickchartButtonEl.style.display =\n",
              "        google.colab.kernel.accessAllowed ? 'block' : 'none';\n",
              "    })();\n",
              "  </script>\n",
              "</div>\n",
              "    </div>\n",
              "  </div>\n"
            ]
          },
          "metadata": {},
          "execution_count": 38
        }
      ],
      "source": [
        "data.drop(['encounter_id','patient_nbr'],axis=1,inplace=True)\n",
        "data.head()"
      ]
    },
    {
      "cell_type": "code",
      "execution_count": 39,
      "id": "37f2d229",
      "metadata": {
        "execution": {
          "iopub.execute_input": "2023-10-27T08:43:29.665609Z",
          "iopub.status.busy": "2023-10-27T08:43:29.665243Z",
          "iopub.status.idle": "2023-10-27T08:43:29.679697Z",
          "shell.execute_reply": "2023-10-27T08:43:29.678575Z"
        },
        "papermill": {
          "duration": 0.034797,
          "end_time": "2023-10-27T08:43:29.681812",
          "exception": false,
          "start_time": "2023-10-27T08:43:29.647015",
          "status": "completed"
        },
        "tags": [],
        "id": "37f2d229"
      },
      "outputs": [],
      "source": [
        "X = data.drop('readmitted',axis=1)\n",
        "\n",
        "y = data['readmitted']"
      ]
    },
    {
      "cell_type": "code",
      "execution_count": 40,
      "id": "5a299051",
      "metadata": {
        "execution": {
          "iopub.execute_input": "2023-10-27T08:43:29.717519Z",
          "iopub.status.busy": "2023-10-27T08:43:29.717169Z",
          "iopub.status.idle": "2023-10-27T08:43:29.785944Z",
          "shell.execute_reply": "2023-10-27T08:43:29.784387Z"
        },
        "papermill": {
          "duration": 0.089345,
          "end_time": "2023-10-27T08:43:29.788309",
          "exception": false,
          "start_time": "2023-10-27T08:43:29.698964",
          "status": "completed"
        },
        "tags": [],
        "id": "5a299051"
      },
      "outputs": [],
      "source": [
        "X_train,X_test,y_train,y_test = train_test_split(X,y,test_size=0.2,random_state=1)"
      ]
    },
    {
      "cell_type": "code",
      "execution_count": 41,
      "id": "2a443fba",
      "metadata": {
        "execution": {
          "iopub.execute_input": "2023-10-27T08:43:29.824407Z",
          "iopub.status.busy": "2023-10-27T08:43:29.824036Z",
          "iopub.status.idle": "2023-10-27T08:43:29.889454Z",
          "shell.execute_reply": "2023-10-27T08:43:29.887739Z"
        },
        "papermill": {
          "duration": 0.086614,
          "end_time": "2023-10-27T08:43:29.892016",
          "exception": false,
          "start_time": "2023-10-27T08:43:29.805402",
          "status": "completed"
        },
        "tags": [],
        "id": "2a443fba"
      },
      "outputs": [],
      "source": [
        "SC = StandardScaler()\n",
        "\n",
        "X_train_scaled = pd.DataFrame(SC.fit_transform(X_train),columns=X_train.columns)\n",
        "\n",
        "X_test_scaled = pd.DataFrame(SC.transform(X_test),columns=X_test.columns)"
      ]
    },
    {
      "cell_type": "code",
      "execution_count": 42,
      "id": "0c598572",
      "metadata": {
        "execution": {
          "iopub.execute_input": "2023-10-27T08:43:29.927913Z",
          "iopub.status.busy": "2023-10-27T08:43:29.927520Z",
          "iopub.status.idle": "2023-10-27T08:43:29.934436Z",
          "shell.execute_reply": "2023-10-27T08:43:29.933476Z"
        },
        "papermill": {
          "duration": 0.027342,
          "end_time": "2023-10-27T08:43:29.936945",
          "exception": false,
          "start_time": "2023-10-27T08:43:29.909603",
          "status": "completed"
        },
        "tags": [],
        "id": "0c598572",
        "outputId": "2623a131-3f5e-4879-f4dd-9b41e58deb23",
        "colab": {
          "base_uri": "https://localhost:8080/"
        }
      },
      "outputs": [
        {
          "output_type": "execute_result",
          "data": {
            "text/plain": [
              "((81410, 44), (20353, 44), (81410,), (20353,))"
            ]
          },
          "metadata": {},
          "execution_count": 42
        }
      ],
      "source": [
        "X_train.shape,X_test.shape,y_train.shape,y_test.shape"
      ]
    },
    {
      "cell_type": "markdown",
      "source": [
        "#Logistic Regression-\n",
        "Logistic Regression is a simple yet effective linear classification algorithm used for binary and multi-class classification. It models the probability of a data point belonging to a particular class using the logistic function, making it suitable for interpreting the impact of features on the outcome."
      ],
      "metadata": {
        "id": "q0E4yJqbbG8t"
      },
      "id": "q0E4yJqbbG8t"
    },
    {
      "cell_type": "code",
      "execution_count": 43,
      "id": "76c1d6c2",
      "metadata": {
        "execution": {
          "iopub.execute_input": "2023-10-27T08:43:29.971397Z",
          "iopub.status.busy": "2023-10-27T08:43:29.971071Z",
          "iopub.status.idle": "2023-10-27T08:43:30.182711Z",
          "shell.execute_reply": "2023-10-27T08:43:30.181962Z"
        },
        "papermill": {
          "duration": 0.231203,
          "end_time": "2023-10-27T08:43:30.184799",
          "exception": false,
          "start_time": "2023-10-27T08:43:29.953596",
          "status": "completed"
        },
        "tags": [],
        "id": "76c1d6c2",
        "outputId": "01d98079-3faf-4de4-ded5-8f987acfb616",
        "colab": {
          "base_uri": "https://localhost:8080/"
        }
      },
      "outputs": [
        {
          "output_type": "execute_result",
          "data": {
            "text/plain": [
              "0.8881464193588011"
            ]
          },
          "metadata": {},
          "execution_count": 43
        }
      ],
      "source": [
        "LR = LogisticRegression()\n",
        "\n",
        "LR.fit(X_train_scaled,y_train)\n",
        "\n",
        "LR.score(X_train_scaled,y_train)"
      ]
    },
    {
      "cell_type": "code",
      "execution_count": 44,
      "id": "3c4e7ad2",
      "metadata": {
        "execution": {
          "iopub.execute_input": "2023-10-27T08:43:30.231229Z",
          "iopub.status.busy": "2023-10-27T08:43:30.230169Z",
          "iopub.status.idle": "2023-10-27T08:43:30.243666Z",
          "shell.execute_reply": "2023-10-27T08:43:30.242882Z"
        },
        "papermill": {
          "duration": 0.038746,
          "end_time": "2023-10-27T08:43:30.245801",
          "exception": false,
          "start_time": "2023-10-27T08:43:30.207055",
          "status": "completed"
        },
        "tags": [],
        "id": "3c4e7ad2",
        "outputId": "78d5cede-f342-4118-9000-0dbb37bff009",
        "colab": {
          "base_uri": "https://localhost:8080/"
        }
      },
      "outputs": [
        {
          "output_type": "execute_result",
          "data": {
            "text/plain": [
              "0.8883211320198496"
            ]
          },
          "metadata": {},
          "execution_count": 44
        }
      ],
      "source": [
        "LR.score(X_test_scaled,y_test)"
      ]
    },
    {
      "cell_type": "markdown",
      "source": [
        "#Random Forest\n",
        "Random Forest is an ensemble learning method that builds multiple decision trees during training and combines their predictions to improve accuracy and reduce overfitting. It is robust, handles high-dimensional data well, and can be used for classification and regression tasks."
      ],
      "metadata": {
        "id": "makiIiINbRWm"
      },
      "id": "makiIiINbRWm"
    },
    {
      "cell_type": "code",
      "execution_count": 45,
      "id": "8f924652",
      "metadata": {
        "execution": {
          "iopub.execute_input": "2023-10-27T08:43:30.292832Z",
          "iopub.status.busy": "2023-10-27T08:43:30.291601Z",
          "iopub.status.idle": "2023-10-27T08:43:49.098201Z",
          "shell.execute_reply": "2023-10-27T08:43:49.096910Z"
        },
        "papermill": {
          "duration": 18.833623,
          "end_time": "2023-10-27T08:43:49.101404",
          "exception": false,
          "start_time": "2023-10-27T08:43:30.267781",
          "status": "completed"
        },
        "tags": [],
        "id": "8f924652",
        "outputId": "8a9c2dc9-b358-4bd6-aa4e-0ef3ac52530b",
        "colab": {
          "base_uri": "https://localhost:8080/"
        }
      },
      "outputs": [
        {
          "output_type": "execute_result",
          "data": {
            "text/plain": [
              "0.9999877164967449"
            ]
          },
          "metadata": {},
          "execution_count": 45
        }
      ],
      "source": [
        "RF = RandomForestClassifier()\n",
        "\n",
        "RF.fit(X_train_scaled,y_train)\n",
        "\n",
        "RF.score(X_train_scaled,y_train)"
      ]
    },
    {
      "cell_type": "code",
      "execution_count": 46,
      "id": "5ecd90f0",
      "metadata": {
        "execution": {
          "iopub.execute_input": "2023-10-27T08:43:49.138342Z",
          "iopub.status.busy": "2023-10-27T08:43:49.137930Z",
          "iopub.status.idle": "2023-10-27T08:43:49.718628Z",
          "shell.execute_reply": "2023-10-27T08:43:49.717740Z"
        },
        "papermill": {
          "duration": 0.601687,
          "end_time": "2023-10-27T08:43:49.720664",
          "exception": false,
          "start_time": "2023-10-27T08:43:49.118977",
          "status": "completed"
        },
        "tags": [],
        "id": "5ecd90f0",
        "outputId": "faf37ae7-a634-40b4-b2d3-3ed719215454",
        "colab": {
          "base_uri": "https://localhost:8080/"
        }
      },
      "outputs": [
        {
          "output_type": "execute_result",
          "data": {
            "text/plain": [
              "0.8888124600795951"
            ]
          },
          "metadata": {},
          "execution_count": 46
        }
      ],
      "source": [
        "RF.score(X_test_scaled,y_test)"
      ]
    },
    {
      "cell_type": "code",
      "execution_count": 47,
      "id": "00ec5cd5",
      "metadata": {
        "execution": {
          "iopub.execute_input": "2023-10-27T08:43:49.757762Z",
          "iopub.status.busy": "2023-10-27T08:43:49.756069Z",
          "iopub.status.idle": "2023-10-27T08:43:49.914746Z",
          "shell.execute_reply": "2023-10-27T08:43:49.913641Z"
        },
        "papermill": {
          "duration": 0.179315,
          "end_time": "2023-10-27T08:43:49.917145",
          "exception": false,
          "start_time": "2023-10-27T08:43:49.737830",
          "status": "completed"
        },
        "tags": [],
        "id": "00ec5cd5"
      },
      "outputs": [],
      "source": [
        "y_pred = RF.predict(X_test)"
      ]
    },
    {
      "cell_type": "code",
      "execution_count": 48,
      "id": "4a8db329",
      "metadata": {
        "execution": {
          "iopub.execute_input": "2023-10-27T08:43:49.952660Z",
          "iopub.status.busy": "2023-10-27T08:43:49.952253Z",
          "iopub.status.idle": "2023-10-27T08:43:49.964178Z",
          "shell.execute_reply": "2023-10-27T08:43:49.963004Z"
        },
        "papermill": {
          "duration": 0.032109,
          "end_time": "2023-10-27T08:43:49.966298",
          "exception": false,
          "start_time": "2023-10-27T08:43:49.934189",
          "status": "completed"
        },
        "tags": [],
        "id": "4a8db329",
        "outputId": "6052151b-4ed1-4b90-b669-5d461ee5d8a7",
        "colab": {
          "base_uri": "https://localhost:8080/"
        }
      },
      "outputs": [
        {
          "output_type": "execute_result",
          "data": {
            "text/plain": [
              "array([[17626,   474],\n",
              "       [ 2132,   121]])"
            ]
          },
          "metadata": {},
          "execution_count": 48
        }
      ],
      "source": [
        "confusion_matrix(y_test,y_pred)"
      ]
    },
    {
      "cell_type": "code",
      "execution_count": 49,
      "id": "ee3cd1ba",
      "metadata": {
        "execution": {
          "iopub.execute_input": "2023-10-27T08:43:50.002096Z",
          "iopub.status.busy": "2023-10-27T08:43:50.001700Z",
          "iopub.status.idle": "2023-10-27T08:43:50.011025Z",
          "shell.execute_reply": "2023-10-27T08:43:50.010294Z"
        },
        "papermill": {
          "duration": 0.029388,
          "end_time": "2023-10-27T08:43:50.012844",
          "exception": false,
          "start_time": "2023-10-27T08:43:49.983456",
          "status": "completed"
        },
        "tags": [],
        "id": "ee3cd1ba",
        "outputId": "441581c7-ef40-4065-f1d5-cd9fb11339cd",
        "colab": {
          "base_uri": "https://localhost:8080/"
        }
      },
      "outputs": [
        {
          "output_type": "execute_result",
          "data": {
            "text/plain": [
              "0.8719599076303247"
            ]
          },
          "metadata": {},
          "execution_count": 49
        }
      ],
      "source": [
        "accuracy_score(y_test,y_pred)"
      ]
    },
    {
      "cell_type": "code",
      "source": [
        "# Set the figure size for the heatmap\n",
        "plt.figure(figsize=(5, 4))\n",
        "\n",
        "# Calculate the confusion matrix based on actual and predicted labels\n",
        "cm = confusion_matrix(y_test, y_pred)\n",
        "\n",
        "# Create a DataFrame for the confusion matrix with labels\n",
        "conf_matrix = pd.DataFrame(data=cm, columns=['Predicted:0', 'Predicted:1'], index=['Actual:0', 'Actual:1'])\n",
        "\n",
        "# Create a heatmap to visualize the confusion matrix with green color\n",
        "sns.heatmap(conf_matrix, annot=True, fmt='d', cmap='YlGnBu', cbar=False, linewidths=0.1, annot_kws={'size': 16})\n",
        "\n",
        "# Customize the appearance of the heatmap\n",
        "plt.xticks(fontsize=10)  # Set x-axis label font size\n",
        "plt.yticks(fontsize=10)  # Set y-axis label font size\n",
        "\n",
        "# Display the heatmap\n",
        "plt.show()\n"
      ],
      "metadata": {
        "colab": {
          "base_uri": "https://localhost:8080/",
          "height": 368
        },
        "id": "H4SBrj47Yido",
        "outputId": "d8fbed11-68b4-43e7-e595-be6bbe54d368"
      },
      "id": "H4SBrj47Yido",
      "execution_count": 59,
      "outputs": [
        {
          "output_type": "display_data",
          "data": {
            "text/plain": [
              "<Figure size 500x400 with 1 Axes>"
            ],
            "image/png": "[encoded data removed]"
          },
          "metadata": {}
        }
      ]
    },
    {
      "cell_type": "markdown",
      "source": [
        "#AdaBoost Classifier-\n",
        "AdaBoost is a boosting algorithm that can be effective for classification tasks, particularly when used with weak learners."
      ],
      "metadata": {
        "id": "V0lxTTbTdXdZ"
      },
      "id": "V0lxTTbTdXdZ"
    },
    {
      "cell_type": "code",
      "source": [
        "from sklearn.ensemble import AdaBoostClassifier\n",
        "from sklearn.metrics import classification_report, confusion_matrix\n",
        "\n",
        "# Create an AdaBoost Classifier instance\n",
        "AdaBoost = AdaBoostClassifier()\n",
        "\n",
        "# Fit the model to the training data\n",
        "AdaBoost.fit(X_train_scaled, y_train)\n",
        "\n",
        "# Make predictions on the test data\n",
        "y_pred = AdaBoost.predict(X_test_scaled)\n",
        "\n",
        "# Print the classification report\n",
        "print(\"Classification Report:\")\n",
        "print(classification_report(y_test, y_pred))\n",
        "\n"
      ],
      "metadata": {
        "colab": {
          "base_uri": "https://localhost:8080/"
        },
        "id": "Lxt9Fn4bc0bx",
        "outputId": "53c22f96-cfe3-4f22-802e-67fca8058fb5"
      },
      "id": "Lxt9Fn4bc0bx",
      "execution_count": 64,
      "outputs": [
        {
          "output_type": "stream",
          "name": "stdout",
          "text": [
            "Classification Report:\n",
            "              precision    recall  f1-score   support\n",
            "\n",
            "           0       0.89      1.00      0.94     18100\n",
            "           1       0.46      0.02      0.03      2253\n",
            "\n",
            "    accuracy                           0.89     20353\n",
            "   macro avg       0.68      0.51      0.49     20353\n",
            "weighted avg       0.84      0.89      0.84     20353\n",
            "\n"
          ]
        }
      ]
    },
    {
      "cell_type": "code",
      "source": [
        "cm = confusion_matrix(y_test, y_pred)\n",
        "\n",
        "# Create a heatmap for the confusion matrix\n",
        "plt.figure(figsize=(8, 6))\n",
        "sns.heatmap(cm, annot=True, fmt='d', cmap='Blues', linewidths=0.5, cbar=False)\n",
        "plt.xlabel('Predicted')\n",
        "plt.ylabel('True')\n",
        "plt.title('Confusion Matrix')\n",
        "plt.show()"
      ],
      "metadata": {
        "colab": {
          "base_uri": "https://localhost:8080/",
          "height": 564
        },
        "id": "mnHJucyTdGjN",
        "outputId": "582fed44-a99b-44a4-9cb0-15333a7d5973"
      },
      "id": "mnHJucyTdGjN",
      "execution_count": 65,
      "outputs": [
        {
          "output_type": "display_data",
          "data": {
            "text/plain": [
              "<Figure size 800x600 with 1 Axes>"
            ],
            "image/png": "[encoded data removed]"
          },
          "metadata": {}
        }
      ]
    }
  ],
  "metadata": {
    "kernelspec": {
      "display_name": "Python 3",
      "language": "python",
      "name": "python3"
    },
    "language_info": {
      "codemirror_mode": {
        "name": "ipython",
        "version": 3
      },
      "file_extension": ".py",
      "mimetype": "text/x-python",
      "name": "python",
      "nbconvert_exporter": "python",
      "pygments_lexer": "ipython3",
      "version": "3.10.12"
    },
    "papermill": {
      "default_parameters": {},
      "duration": 35.946412,
      "end_time": "2023-10-27T08:43:50.838384",
      "environment_variables": {},
      "exception": null,
      "input_path": "__notebook__.ipynb",
      "output_path": "__notebook__.ipynb",
      "parameters": {},
      "start_time": "2023-10-27T08:43:14.891972",
      "version": "2.4.0"
    },
    "colab": {
      "provenance": []
    }
  },
  "nbformat": 4,
  "nbformat_minor": 5
}